{
 "cells": [
  {
   "cell_type": "code",
   "execution_count": 1,
   "id": "1e640136",
   "metadata": {},
   "outputs": [
    {
     "data": {
      "text/plain": [
       "<AddedDllDirectory('C:/Program Files/NVIDIA GPU Computing Toolkit/CUDA/v11.2/bin')>"
      ]
     },
     "execution_count": 1,
     "metadata": {},
     "output_type": "execute_result"
    }
   ],
   "source": [
    "import os\n",
    "# Add directory for NVIDIA gpu. Ignore if not Windows\n",
    "os.add_dll_directory(\"C:/Program Files/NVIDIA GPU Computing Toolkit/CUDA/v11.2/bin\")"
   ]
  },
  {
   "cell_type": "code",
   "execution_count": 3,
   "id": "0318e036",
   "metadata": {},
   "outputs": [
    {
     "name": "stdout",
     "output_type": "stream",
     "text": [
      "[PhysicalDevice(name='/physical_device:GPU:0', device_type='GPU')]\n"
     ]
    }
   ],
   "source": [
    "import tensorflow as tf\n",
    "# print(tf.reduce_sum(tf.random.normal([1000, 1000])))\n",
    "# Confirm tensorflow running on gpu\n",
    "print(tf.config.list_physical_devices('GPU'))"
   ]
  },
  {
   "cell_type": "code",
   "execution_count": 22,
   "id": "78a06e8b",
   "metadata": {},
   "outputs": [],
   "source": [
    "from tensorflow import keras\n",
    "from tensorflow.keras.utils import image_dataset_from_directory\n",
    "from tensorflow.keras.layers.experimental.preprocessing import Resizing\n",
    "import numpy as np\n",
    "import pickle as pkl"
   ]
  },
  {
   "cell_type": "markdown",
   "id": "d78d9af1",
   "metadata": {},
   "source": [
    "### Base CovNet Model"
   ]
  },
  {
   "cell_type": "code",
   "execution_count": 5,
   "id": "10640390",
   "metadata": {},
   "outputs": [],
   "source": [
    "# function to build the conv net base\n",
    "\n",
    "\n",
    "# complete this function\n",
    "def build_base_convnet_model():\n",
    "    \"\"\"Re-create the model from the first prompt, but with a different input shape\"\"\"\n",
    "    \n",
    "    # Return this variable\n",
    "    model = None\n",
    "    \n",
    "    # YOUR CODE HERE\n",
    "    inputs = keras.Input(shape = (299, 299, 3))\n",
    "    x = keras.layers.Conv2D(filters = 32, kernel_size = 3, activation = 'relu')(inputs)\n",
    "    x = keras.layers.MaxPooling2D(pool_size = 2)(x)\n",
    "    x = keras.layers.Conv2D(filters = 64, kernel_size = 3, activation = 'relu')(x)\n",
    "    x = keras.layers.MaxPooling2D(pool_size = 2)(x)\n",
    "    x = keras.layers.Conv2D(filters = 128, kernel_size = 3, activation = 'relu')(x)\n",
    "    x = keras.layers.Flatten()(x)\n",
    "    outputs = keras.layers.Dense(1, activation = 'sigmoid')(x)\n",
    "\n",
    "    model = keras.Model(inputs, outputs)\n",
    "\n",
    "    model.compile(loss = 'binary_crossentropy', metrics = ['accuracy'])\n",
    "    \n",
    "    return model\n",
    "\n",
    "def load_image_data(base_path: str) -> tuple:\n",
    "    \"\"\"Write a function that accepts a base path that contains all of the directories, and creates training,\n",
    "    validation and test sets\"\"\"\n",
    "    \n",
    "    # Return these variables from the function\n",
    "    train_data = keras.utils.image_dataset_from_directory(f'{base_path}/train', \n",
    "                                                          image_size = (299, 299),\n",
    "                                                          batch_size = 32)\n",
    "\n",
    "    validation_data = keras.utils.image_dataset_from_directory(f'{base_path}/val', \n",
    "                                                          image_size = (299, 299),\n",
    "                                                          batch_size = 32)\n",
    "    \n",
    "    test_data = keras.utils.image_dataset_from_directory(f'{base_path}/test', \n",
    "                                                          image_size = (299, 299),\n",
    "                                                          batch_size = 32)\n",
    "    \n",
    "    # YOUR CODE HERE\n",
    "    \n",
    "    \n",
    "    return train_data, validation_data, test_data\n",
    "\n",
    "def fit_convnet_model(model, train_set, validation_set):\n",
    "    \"\"\"Fit a model with the above stated criteria\"\"\"\n",
    "    early_stopping = keras.callbacks.EarlyStopping(patience = 10)\n",
    "    \n",
    "    # YOUR CODE HERE\n",
    "    model.fit(train_set, \n",
    "              validation_data = validation_set, \n",
    "              callbacks = [early_stopping], \n",
    "              epochs = 500)\n",
    "    \n",
    "    return model"
   ]
  },
  {
   "cell_type": "code",
   "execution_count": 6,
   "id": "1dee887e",
   "metadata": {},
   "outputs": [
    {
     "name": "stdout",
     "output_type": "stream",
     "text": [
      "Found 8284 files belonging to 2 classes.\n",
      "Found 2761 files belonging to 2 classes.\n",
      "Found 2763 files belonging to 2 classes.\n"
     ]
    }
   ],
   "source": [
    "# run this cell to create your base convolution model and training, validation & test sets\n",
    "base_mod = build_base_convnet_model()\n",
    "train_data, validation_data, test_data = load_image_data('../data/COVID-19_Radiography_Dataset/TwoClasses/split')"
   ]
  },
  {
   "cell_type": "code",
   "execution_count": 7,
   "id": "1f09b370",
   "metadata": {},
   "outputs": [
    {
     "name": "stdout",
     "output_type": "stream",
     "text": [
      "Epoch 1/500\n",
      "259/259 [==============================] - 26s 81ms/step - loss: 35.5139 - accuracy: 0.7575 - val_loss: 0.3734 - val_accuracy: 0.8566\n",
      "Epoch 2/500\n",
      "259/259 [==============================] - 20s 76ms/step - loss: 16.5739 - accuracy: 0.8143 - val_loss: 0.3903 - val_accuracy: 0.8577\n",
      "Epoch 3/500\n",
      "259/259 [==============================] - 20s 77ms/step - loss: 6.3294 - accuracy: 0.8543 - val_loss: 3.6633 - val_accuracy: 0.7816\n",
      "Epoch 4/500\n",
      "259/259 [==============================] - 20s 76ms/step - loss: 9.4186 - accuracy: 0.8799 - val_loss: 0.6813 - val_accuracy: 0.8816\n",
      "Epoch 5/500\n",
      "259/259 [==============================] - 20s 77ms/step - loss: 16.8079 - accuracy: 0.8841 - val_loss: 5.7160 - val_accuracy: 0.8823\n",
      "Epoch 6/500\n",
      "259/259 [==============================] - 20s 76ms/step - loss: 3.8142 - accuracy: 0.9141 - val_loss: 1.3226 - val_accuracy: 0.8957\n",
      "Epoch 7/500\n",
      "259/259 [==============================] - 20s 75ms/step - loss: 2.0736 - accuracy: 0.9192 - val_loss: 0.9410 - val_accuracy: 0.8903\n",
      "Epoch 8/500\n",
      "259/259 [==============================] - 20s 76ms/step - loss: 33.3567 - accuracy: 0.9267 - val_loss: 3.4701 - val_accuracy: 0.9066\n",
      "Epoch 9/500\n",
      "259/259 [==============================] - 20s 77ms/step - loss: 2.9288 - accuracy: 0.9326 - val_loss: 1.7635 - val_accuracy: 0.8939\n",
      "Epoch 10/500\n",
      "259/259 [==============================] - 20s 76ms/step - loss: 3.2448 - accuracy: 0.9460 - val_loss: 2.2236 - val_accuracy: 0.9073\n",
      "Epoch 11/500\n",
      "259/259 [==============================] - 20s 76ms/step - loss: 6.7139 - accuracy: 0.9412 - val_loss: 5.1680 - val_accuracy: 0.9029\n"
     ]
    }
   ],
   "source": [
    "fitted_model = fit_convnet_model(base_mod, train_data, validation_data)"
   ]
  },
  {
   "cell_type": "markdown",
   "id": "86202cc8",
   "metadata": {},
   "source": [
    "### Inception V3 Model\n",
    "\n"
   ]
  },
  {
   "cell_type": "code",
   "execution_count": 9,
   "id": "2a23e7cb",
   "metadata": {},
   "outputs": [],
   "source": [
    "from keras.applications import InceptionV3"
   ]
  },
  {
   "cell_type": "code",
   "execution_count": 19,
   "id": "2a3a8ca7",
   "metadata": {},
   "outputs": [],
   "source": [
    "def build_transfer_learning_model():\n",
    "    \n",
    "    # return this variable\n",
    "    model = None\n",
    "\n",
    "    model_input = keras.Input(shape = (299, 299, 3))\n",
    "    \n",
    "    base_model = InceptionV3(input_shape = (299, 299, 3), weights='imagenet', include_top=False)\n",
    "\n",
    "    # make the weights in the base model non-trainable\n",
    "    for layer in base_model.layers:\n",
    "      layer.trainable = False\n",
    "\n",
    "    # combine the base model with a dense layer and output layer for the 10 classes\n",
    "    # the preprocess_input transforms input data according to how the model was trained\n",
    "    \n",
    "    x = keras.applications.inception_v3.preprocess_input(model_input)\n",
    "    x = base_model(x)\n",
    "    x = keras.layers.Flatten()(x)\n",
    "    x = keras.layers.Dense(256, activation = 'relu')(x)\n",
    "    x = keras.layers.Dropout(0.5)(x)\n",
    "    output = keras.layers.Dense(1, activation = 'sigmoid')(x)\n",
    "\n",
    "    model = keras.Model(model_input, output)\n",
    "\n",
    "    model.compile(loss = 'binary_crossentropy', metrics = ['accuracy'])\n",
    "    \n",
    "    return model"
   ]
  },
  {
   "cell_type": "code",
   "execution_count": 20,
   "id": "1da72b71",
   "metadata": {},
   "outputs": [],
   "source": [
    "transfer_learning_mod = build_transfer_learning_model()"
   ]
  },
  {
   "cell_type": "code",
   "execution_count": 21,
   "id": "097eb519",
   "metadata": {},
   "outputs": [
    {
     "name": "stdout",
     "output_type": "stream",
     "text": [
      "Epoch 1/500\n",
      "259/259 [==============================] - 31s 106ms/step - loss: 5.1110 - accuracy: 0.8396 - val_loss: 0.2213 - val_accuracy: 0.9174\n",
      "Epoch 2/500\n",
      "259/259 [==============================] - 27s 104ms/step - loss: 0.4943 - accuracy: 0.8950 - val_loss: 0.3729 - val_accuracy: 0.9203\n",
      "Epoch 3/500\n",
      "259/259 [==============================] - 27s 102ms/step - loss: 0.3215 - accuracy: 0.9229 - val_loss: 0.1975 - val_accuracy: 0.9453\n",
      "Epoch 4/500\n",
      "259/259 [==============================] - 27s 104ms/step - loss: 0.2826 - accuracy: 0.9326 - val_loss: 0.3630 - val_accuracy: 0.9185\n",
      "Epoch 5/500\n",
      "259/259 [==============================] - 27s 103ms/step - loss: 0.2693 - accuracy: 0.9419 - val_loss: 0.1521 - val_accuracy: 0.9580\n",
      "Epoch 6/500\n",
      "259/259 [==============================] - 27s 103ms/step - loss: 0.1734 - accuracy: 0.9541 - val_loss: 0.1605 - val_accuracy: 0.9616\n",
      "Epoch 7/500\n",
      "259/259 [==============================] - 27s 103ms/step - loss: 0.1665 - accuracy: 0.9545 - val_loss: 0.1694 - val_accuracy: 0.9620\n",
      "Epoch 8/500\n",
      "259/259 [==============================] - 27s 102ms/step - loss: 0.1570 - accuracy: 0.9613 - val_loss: 0.1728 - val_accuracy: 0.9573\n",
      "Epoch 9/500\n",
      "259/259 [==============================] - 27s 103ms/step - loss: 0.1566 - accuracy: 0.9638 - val_loss: 0.2056 - val_accuracy: 0.9660\n",
      "Epoch 10/500\n",
      "259/259 [==============================] - 27s 105ms/step - loss: 0.1522 - accuracy: 0.9657 - val_loss: 0.2624 - val_accuracy: 0.9634\n",
      "Epoch 11/500\n",
      "259/259 [==============================] - 27s 104ms/step - loss: 0.1291 - accuracy: 0.9691 - val_loss: 0.2474 - val_accuracy: 0.9609\n",
      "Epoch 12/500\n",
      "259/259 [==============================] - 27s 103ms/step - loss: 0.1108 - accuracy: 0.9710 - val_loss: 0.2300 - val_accuracy: 0.9667\n",
      "Epoch 13/500\n",
      "259/259 [==============================] - 27s 103ms/step - loss: 0.1076 - accuracy: 0.9743 - val_loss: 0.2362 - val_accuracy: 0.9674\n",
      "Epoch 14/500\n",
      "259/259 [==============================] - 27s 103ms/step - loss: 0.1137 - accuracy: 0.9779 - val_loss: 0.2169 - val_accuracy: 0.9717\n",
      "Epoch 15/500\n",
      "259/259 [==============================] - 27s 103ms/step - loss: 0.0969 - accuracy: 0.9774 - val_loss: 0.3870 - val_accuracy: 0.9631\n"
     ]
    }
   ],
   "source": [
    "inception_model = fit_convnet_model(transfer_learning_mod, train_data, validation_data)"
   ]
  },
  {
   "cell_type": "markdown",
   "id": "89f3a038",
   "metadata": {},
   "source": [
    "### ResNet Model"
   ]
  },
  {
   "cell_type": "code",
   "execution_count": null,
   "id": "08e0b7c2",
   "metadata": {},
   "outputs": [],
   "source": [
    "from keras.applications import ResNet50"
   ]
  },
  {
   "cell_type": "code",
   "execution_count": 19,
   "id": "e90bfc07",
   "metadata": {},
   "outputs": [],
   "source": [
    "def build_transfer_learning_model():\n",
    "    \n",
    "    # return this variable\n",
    "    model = None\n",
    "\n",
    "    model_input = keras.Input(shape = (299, 299, 3))\n",
    "    \n",
    "    base_model = ResNet50(input_shape = (299, 299, 3), weights='imagenet', include_top=False)\n",
    "\n",
    "    # make the weights in the base model non-trainable\n",
    "    for layer in base_model.layers:\n",
    "      layer.trainable = False\n",
    "\n",
    "    # combine the base model with a dense layer and output layer for the 10 classes\n",
    "    # the preprocess_input transforms input data according to how the model was trained\n",
    "    \n",
    "    x = keras.applications.resnet50.preprocess_input(model_input)\n",
    "    x = base_model(x)\n",
    "    x = keras.layers.Flatten()(x)\n",
    "    x = keras.layers.Dense(256, activation = 'relu')(x)\n",
    "    x = keras.layers.Dropout(0.5)(x)\n",
    "    output = keras.layers.Dense(1, activation = 'sigmoid')(x)\n",
    "\n",
    "    model = keras.Model(model_input, output)\n",
    "\n",
    "    model.compile(loss = 'binary_crossentropy', metrics = ['accuracy'])\n",
    "    \n",
    "    return model"
   ]
  },
  {
   "cell_type": "code",
   "execution_count": 20,
   "id": "0fc66d1f",
   "metadata": {},
   "outputs": [],
   "source": [
    "transfer_learning_mod = build_transfer_learning_model()"
   ]
  },
  {
   "cell_type": "code",
   "execution_count": 21,
   "id": "3ff3a3a3",
   "metadata": {
    "scrolled": true
   },
   "outputs": [
    {
     "name": "stdout",
     "output_type": "stream",
     "text": [
      "Epoch 1/500\n",
      "259/259 [==============================] - 31s 106ms/step - loss: 5.1110 - accuracy: 0.8396 - val_loss: 0.2213 - val_accuracy: 0.9174\n",
      "Epoch 2/500\n",
      "259/259 [==============================] - 27s 104ms/step - loss: 0.4943 - accuracy: 0.8950 - val_loss: 0.3729 - val_accuracy: 0.9203\n",
      "Epoch 3/500\n",
      "259/259 [==============================] - 27s 102ms/step - loss: 0.3215 - accuracy: 0.9229 - val_loss: 0.1975 - val_accuracy: 0.9453\n",
      "Epoch 4/500\n",
      "259/259 [==============================] - 27s 104ms/step - loss: 0.2826 - accuracy: 0.9326 - val_loss: 0.3630 - val_accuracy: 0.9185\n",
      "Epoch 5/500\n",
      "259/259 [==============================] - 27s 103ms/step - loss: 0.2693 - accuracy: 0.9419 - val_loss: 0.1521 - val_accuracy: 0.9580\n",
      "Epoch 6/500\n",
      "259/259 [==============================] - 27s 103ms/step - loss: 0.1734 - accuracy: 0.9541 - val_loss: 0.1605 - val_accuracy: 0.9616\n",
      "Epoch 7/500\n",
      "259/259 [==============================] - 27s 103ms/step - loss: 0.1665 - accuracy: 0.9545 - val_loss: 0.1694 - val_accuracy: 0.9620\n",
      "Epoch 8/500\n",
      "259/259 [==============================] - 27s 102ms/step - loss: 0.1570 - accuracy: 0.9613 - val_loss: 0.1728 - val_accuracy: 0.9573\n",
      "Epoch 9/500\n",
      "259/259 [==============================] - 27s 103ms/step - loss: 0.1566 - accuracy: 0.9638 - val_loss: 0.2056 - val_accuracy: 0.9660\n",
      "Epoch 10/500\n",
      "259/259 [==============================] - 27s 105ms/step - loss: 0.1522 - accuracy: 0.9657 - val_loss: 0.2624 - val_accuracy: 0.9634\n",
      "Epoch 11/500\n",
      "259/259 [==============================] - 27s 104ms/step - loss: 0.1291 - accuracy: 0.9691 - val_loss: 0.2474 - val_accuracy: 0.9609\n",
      "Epoch 12/500\n",
      "259/259 [==============================] - 27s 103ms/step - loss: 0.1108 - accuracy: 0.9710 - val_loss: 0.2300 - val_accuracy: 0.9667\n",
      "Epoch 13/500\n",
      "259/259 [==============================] - 27s 103ms/step - loss: 0.1076 - accuracy: 0.9743 - val_loss: 0.2362 - val_accuracy: 0.9674\n",
      "Epoch 14/500\n",
      "259/259 [==============================] - 27s 103ms/step - loss: 0.1137 - accuracy: 0.9779 - val_loss: 0.2169 - val_accuracy: 0.9717\n",
      "Epoch 15/500\n",
      "259/259 [==============================] - 27s 103ms/step - loss: 0.0969 - accuracy: 0.9774 - val_loss: 0.3870 - val_accuracy: 0.9631\n"
     ]
    }
   ],
   "source": [
    "resnet_model = fit_convnet_model(transfer_learning_mod, train_data, validation_data)"
   ]
  },
  {
   "cell_type": "code",
   "execution_count": null,
   "id": "3795cf3d",
   "metadata": {},
   "outputs": [],
   "source": []
  }
 ],
 "metadata": {
  "kernelspec": {
   "display_name": "tf_gpu",
   "language": "python",
   "name": "tf_gpu"
  },
  "language_info": {
   "codemirror_mode": {
    "name": "ipython",
    "version": 3
   },
   "file_extension": ".py",
   "mimetype": "text/x-python",
   "name": "python",
   "nbconvert_exporter": "python",
   "pygments_lexer": "ipython3",
   "version": "3.9.15"
  }
 },
 "nbformat": 4,
 "nbformat_minor": 5
}
