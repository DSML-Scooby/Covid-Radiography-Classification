{
 "cells": [
  {
   "cell_type": "code",
   "execution_count": 25,
   "id": "10640390",
   "metadata": {},
   "outputs": [],
   "source": [
    "from sklearn.model_selection import train_test_split\n",
    "import numpy as np\n",
    "import pandas as pd\n",
    "import os\n",
    "import splitfolders"
   ]
  },
  {
   "cell_type": "code",
   "execution_count": 26,
   "id": "98de2ce1",
   "metadata": {},
   "outputs": [],
   "source": [
    "normal_path = '../data/COVID-19_Radiography_Dataset/TwoClasses/Normal'\n",
    "covid_path = '../data/COVID-19_Radiography_Dataset/TwoClasses/Covid'"
   ]
  },
  {
   "cell_type": "code",
   "execution_count": 27,
   "id": "5cb38215",
   "metadata": {},
   "outputs": [],
   "source": [
    "normal_data = os.listdir(normal_path)\n",
    "covid_data = os.listdir(covid_path)"
   ]
  },
  {
   "cell_type": "code",
   "execution_count": 28,
   "id": "d3ae17a2",
   "metadata": {},
   "outputs": [],
   "source": [
    "train, valid = train_test_split(normal_data, test_size=0.2, random_state=1)"
   ]
  },
  {
   "cell_type": "code",
   "execution_count": null,
   "id": "b8463a08",
   "metadata": {},
   "outputs": [],
   "source": []
  }
 ],
 "metadata": {
  "kernelspec": {
   "display_name": "tf_gpu",
   "language": "python",
   "name": "tf_gpu"
  },
  "language_info": {
   "codemirror_mode": {
    "name": "ipython",
    "version": 3
   },
   "file_extension": ".py",
   "mimetype": "text/x-python",
   "name": "python",
   "nbconvert_exporter": "python",
   "pygments_lexer": "ipython3",
   "version": "3.9.13"
  }
 },
 "nbformat": 4,
 "nbformat_minor": 5
}
