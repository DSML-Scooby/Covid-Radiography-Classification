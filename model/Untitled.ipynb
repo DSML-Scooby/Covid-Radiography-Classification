{
 "cells": [
  {
   "cell_type": "code",
   "execution_count": 25,
   "id": "10640390",
   "metadata": {},
   "outputs": [],
   "source": [
    "import os\n",
    "import splitfolders"
   ]
  },
  {
   "cell_type": "code",
   "execution_count": 26,
   "id": "98de2ce1",
   "metadata": {},
   "outputs": [],
   "source": [
    "normal_path = '../data/COVID-19_Radiography_Dataset/TwoClasses/Normal'\n",
    "covid_path = '../data/COVID-19_Radiography_Dataset/TwoClasses/Covid'"
   ]
  },
  {
   "cell_type": "code",
   "execution_count": 27,
   "id": "5cb38215",
   "metadata": {},
   "outputs": [],
   "source": [
    "normal_data = os.listdir(normal_path)\n",
    "covid_data = os.listdir(covid_path)"
   ]
  },
  {
   "cell_type": "code",
   "execution_count": 28,
   "id": "d3ae17a2",
   "metadata": {},
   "outputs": [],
   "source": [
    "train, valid = train_test_split(normal_data, test_size=0.2, random_state=1)"
   ]
  },
  {
   "cell_type": "code",
   "execution_count": null,
   "id": "b8463a08",
   "metadata": {},
   "outputs": [],
   "source": [
    "splitfolders.ratio(\"../data/COVID-19_Radiography_Dataset/TwoClasses/\", # The location of dataset\n",
    "                   output=\"../data/COVID-19_Radiography_Dataset/TwoClasses/split\", # The output location\n",
    "                   seed=42, # The number of seed\n",
    "                   ratio=(.6, .2, .2), # The ratio of splited dataset\n",
    "                   group_prefix=None, # If your dataset contains more than one file like \".jpg\", \".pdf\", etc\n",
    "                   move=False # If you choose to move, turn this into True\n",
    "                   )"
   ]
  }
 ],
 "metadata": {
  "kernelspec": {
   "display_name": "tf_gpu",
   "language": "python",
   "name": "tf_gpu"
  },
  "language_info": {
   "codemirror_mode": {
    "name": "ipython",
    "version": 3
   },
   "file_extension": ".py",
   "mimetype": "text/x-python",
   "name": "python",
   "nbconvert_exporter": "python",
   "pygments_lexer": "ipython3",
   "version": "3.9.13"
  }
 },
 "nbformat": 4,
 "nbformat_minor": 5
}
