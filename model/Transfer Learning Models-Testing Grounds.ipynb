{
 "cells": [
  {
   "cell_type": "code",
   "execution_count": 8,
   "id": "1e640136",
   "metadata": {},
   "outputs": [
    {
     "data": {
      "text/plain": [
       "<AddedDllDirectory('C:/Program Files/NVIDIA GPU Computing Toolkit/CUDA/v11.2/bin')>"
      ]
     },
     "execution_count": 8,
     "metadata": {},
     "output_type": "execute_result"
    }
   ],
   "source": [
    "import os\n",
    "# Add directory for NVIDIA gpu. Ignore if not Windows\n",
    "os.add_dll_directory(\"C:/Program Files/NVIDIA GPU Computing Toolkit/CUDA/v11.2/bin\")"
   ]
  },
  {
   "cell_type": "code",
   "execution_count": 9,
   "id": "0318e036",
   "metadata": {},
   "outputs": [
    {
     "name": "stdout",
     "output_type": "stream",
     "text": [
      "[PhysicalDevice(name='/physical_device:GPU:0', device_type='GPU')]\n"
     ]
    }
   ],
   "source": [
    "import tensorflow as tf\n",
    "# print(tf.reduce_sum(tf.random.normal([1000, 1000])))\n",
    "# Confirm tensorflow running on gpu\n",
    "print(tf.config.list_physical_devices('GPU'))"
   ]
  },
  {
   "cell_type": "code",
   "execution_count": 10,
   "id": "78a06e8b",
   "metadata": {},
   "outputs": [],
   "source": [
    "from tensorflow import keras\n",
    "from tensorflow.keras.utils import image_dataset_from_directory\n",
    "from tensorflow.keras.layers.experimental.preprocessing import Resizing\n",
    "import numpy as np\n",
    "import pickle as pkl"
   ]
  },
  {
   "cell_type": "markdown",
   "id": "3992ac7f",
   "metadata": {},
   "source": [
    "### Base CovNet Model"
   ]
  },
  {
   "cell_type": "code",
   "execution_count": 11,
   "id": "10640390",
   "metadata": {},
   "outputs": [],
   "source": [
    "# function to build the conv net base\n",
    "\n",
    "\n",
    "# complete this function\n",
    "def build_base_convnet_model():\n",
    "    \"\"\"Re-create the model from the first prompt, but with a different input shape\"\"\"\n",
    "    \n",
    "    # Return this variable\n",
    "    model = None\n",
    "    \n",
    "    # YOUR CODE HERE\n",
    "    inputs = keras.Input(shape = (299, 299, 3))\n",
    "    x = keras.layers.Conv2D(filters = 32, kernel_size = 3, activation = 'relu')(inputs)\n",
    "    x = keras.layers.MaxPooling2D(pool_size = 2)(x)\n",
    "    x = keras.layers.Conv2D(filters = 64, kernel_size = 3, activation = 'relu')(x)\n",
    "    x = keras.layers.MaxPooling2D(pool_size = 2)(x)\n",
    "    x = keras.layers.Conv2D(filters = 128, kernel_size = 3, activation = 'relu')(x)\n",
    "    x = keras.layers.Flatten()(x)\n",
    "    outputs = keras.layers.Dense(1, activation = 'sigmoid')(x)\n",
    "\n",
    "    model = keras.Model(inputs, outputs)\n",
    "\n",
    "    model.compile(loss = 'binary_crossentropy', metrics = ['accuracy'])\n",
    "    \n",
    "    return model\n",
    "\n",
    "def load_image_data(base_path: str) -> tuple:\n",
    "    \"\"\"Write a function that accepts a base path that contains all of the directories, and creates training,\n",
    "    validation and test sets\"\"\"\n",
    "    \n",
    "    # Return these variables from the function\n",
    "    train_data = keras.utils.image_dataset_from_directory(f'{base_path}/train', \n",
    "                                                          image_size = (299, 299),\n",
    "                                                          batch_size = 32)\n",
    "\n",
    "    validation_data = keras.utils.image_dataset_from_directory(f'{base_path}/val', \n",
    "                                                          image_size = (299, 299),\n",
    "                                                          batch_size = 32)\n",
    "    \n",
    "    test_data = keras.utils.image_dataset_from_directory(f'{base_path}/test', \n",
    "                                                          image_size = (299, 299),\n",
    "                                                          batch_size = 32)\n",
    "    \n",
    "    # YOUR CODE HERE\n",
    "    \n",
    "    \n",
    "    return train_data, validation_data, test_data\n",
    "\n",
    "def fit_convnet_model(model, train_set, validation_set):\n",
    "    \"\"\"Fit a model with the above stated criteria\"\"\"\n",
    "    early_stopping = keras.callbacks.EarlyStopping(patience = 10)\n",
    "    \n",
    "    # YOUR CODE HERE\n",
    "    model.fit(train_set, \n",
    "              validation_data = validation_set, \n",
    "              callbacks = [early_stopping], \n",
    "              epochs = 500)\n",
    "    \n",
    "    return model"
   ]
  },
  {
   "cell_type": "code",
   "execution_count": 12,
   "id": "1dee887e",
   "metadata": {},
   "outputs": [
    {
     "name": "stdout",
     "output_type": "stream",
     "text": [
      "Found 8284 files belonging to 2 classes.\n",
      "Found 2761 files belonging to 2 classes.\n",
      "Found 2763 files belonging to 2 classes.\n"
     ]
    }
   ],
   "source": [
    "# run this cell to create your base convolution model and training, validation & test sets\n",
    "base_mod = build_base_convnet_model()\n",
    "train_data, validation_data, test_data = load_image_data('../data/COVID-19_Radiography_Dataset/TwoClasses/split')"
   ]
  },
  {
   "cell_type": "code",
   "execution_count": 13,
   "id": "1f09b370",
   "metadata": {},
   "outputs": [
    {
     "name": "stdout",
     "output_type": "stream",
     "text": [
      "Epoch 1/500\n",
      "259/259 [==============================] - 29s 85ms/step - loss: 64.6308 - accuracy: 0.7639 - val_loss: 0.8445 - val_accuracy: 0.8421\n",
      "Epoch 2/500\n",
      "259/259 [==============================] - 21s 79ms/step - loss: 11.1127 - accuracy: 0.8154 - val_loss: 0.7161 - val_accuracy: 0.8526\n",
      "Epoch 3/500\n",
      "259/259 [==============================] - 21s 80ms/step - loss: 12.4725 - accuracy: 0.8334 - val_loss: 1.0165 - val_accuracy: 0.8606\n",
      "Epoch 4/500\n",
      "259/259 [==============================] - 21s 80ms/step - loss: 15.9807 - accuracy: 0.8712 - val_loss: 0.5563 - val_accuracy: 0.8888\n",
      "Epoch 5/500\n",
      "259/259 [==============================] - 21s 82ms/step - loss: 2.1626 - accuracy: 0.8891 - val_loss: 0.6703 - val_accuracy: 0.8968\n",
      "Epoch 6/500\n",
      "259/259 [==============================] - 20s 78ms/step - loss: 0.7264 - accuracy: 0.9166 - val_loss: 0.6433 - val_accuracy: 0.9044\n",
      "Epoch 7/500\n",
      "259/259 [==============================] - 20s 78ms/step - loss: 0.5368 - accuracy: 0.9357 - val_loss: 0.7448 - val_accuracy: 0.9138\n",
      "Epoch 8/500\n",
      "259/259 [==============================] - 20s 76ms/step - loss: 0.5301 - accuracy: 0.9464 - val_loss: 1.2216 - val_accuracy: 0.9185\n",
      "Epoch 9/500\n",
      "259/259 [==============================] - 22s 83ms/step - loss: 1.1960 - accuracy: 0.9434 - val_loss: 2.6726 - val_accuracy: 0.9138\n",
      "Epoch 10/500\n",
      "259/259 [==============================] - 21s 82ms/step - loss: 1.0755 - accuracy: 0.9501 - val_loss: 2.2013 - val_accuracy: 0.9026\n",
      "Epoch 11/500\n",
      "259/259 [==============================] - 21s 81ms/step - loss: 1.4836 - accuracy: 0.9597 - val_loss: 2.6390 - val_accuracy: 0.9163\n",
      "Epoch 12/500\n",
      "259/259 [==============================] - 21s 80ms/step - loss: 4.1416 - accuracy: 0.9532 - val_loss: 4.1758 - val_accuracy: 0.9080\n",
      "Epoch 13/500\n",
      "259/259 [==============================] - 21s 81ms/step - loss: 0.6849 - accuracy: 0.9703 - val_loss: 4.3804 - val_accuracy: 0.9127\n",
      "Epoch 14/500\n",
      "259/259 [==============================] - 22s 83ms/step - loss: 0.6918 - accuracy: 0.9708 - val_loss: 3.8438 - val_accuracy: 0.9145\n"
     ]
    }
   ],
   "source": [
    "fitted_model = fit_convnet_model(base_mod, train_data, validation_data)"
   ]
  },
  {
   "cell_type": "markdown",
   "id": "234e5f16",
   "metadata": {},
   "source": [
    "### Inception V3 Model\n",
    "\n"
   ]
  },
  {
   "cell_type": "code",
   "execution_count": 14,
   "id": "2f3f9f68",
   "metadata": {},
   "outputs": [],
   "source": [
    "from keras.applications import InceptionV3"
   ]
  },
  {
   "cell_type": "code",
   "execution_count": 15,
   "id": "f2bc3005",
   "metadata": {},
   "outputs": [],
   "source": [
    "def build_transfer_learning_model():\n",
    "    \n",
    "    # return this variable\n",
    "    model = None\n",
    "\n",
    "    model_input = keras.Input(shape = (299, 299, 3))\n",
    "    \n",
    "    base_model = InceptionV3(input_shape = (299, 299, 3), weights='imagenet', include_top=False)\n",
    "\n",
    "    # make the weights in the base model non-trainable\n",
    "    for layer in base_model.layers:\n",
    "      layer.trainable = False\n",
    "\n",
    "    # combine the base model with a dense layer and output layer for the 10 classes\n",
    "    # the preprocess_input transforms input data according to how the model was trained\n",
    "    \n",
    "    x = keras.applications.inception_v3.preprocess_input(model_input)\n",
    "    x = base_model(x)\n",
    "    x = keras.layers.Flatten()(x)\n",
    "    x = keras.layers.Dense(256, activation = 'relu')(x)\n",
    "    x = keras.layers.Dropout(0.5)(x)\n",
    "    output = keras.layers.Dense(1, activation = 'sigmoid')(x)\n",
    "\n",
    "    model = keras.Model(model_input, output)\n",
    "\n",
    "    model.compile(loss = 'binary_crossentropy', metrics = ['accuracy'])\n",
    "    \n",
    "    return model"
   ]
  },
  {
   "cell_type": "code",
   "execution_count": 16,
   "id": "4f6e18b8",
   "metadata": {},
   "outputs": [],
   "source": [
    "transfer_learning_mod = build_transfer_learning_model()"
   ]
  },
  {
   "cell_type": "code",
   "execution_count": 17,
   "id": "a4c0ffde",
   "metadata": {},
   "outputs": [
    {
     "name": "stdout",
     "output_type": "stream",
     "text": [
      "Epoch 1/500\n",
      "259/259 [==============================] - 34s 116ms/step - loss: 4.7162 - accuracy: 0.8373 - val_loss: 0.2678 - val_accuracy: 0.9152\n",
      "Epoch 2/500\n",
      "259/259 [==============================] - 29s 110ms/step - loss: 0.3598 - accuracy: 0.9108 - val_loss: 0.1571 - val_accuracy: 0.9518\n",
      "Epoch 3/500\n",
      "259/259 [==============================] - 29s 111ms/step - loss: 0.2969 - accuracy: 0.9284 - val_loss: 0.8481 - val_accuracy: 0.8758\n",
      "Epoch 4/500\n",
      "259/259 [==============================] - 29s 111ms/step - loss: 0.2546 - accuracy: 0.9454 - val_loss: 0.2162 - val_accuracy: 0.9384\n",
      "Epoch 5/500\n",
      "259/259 [==============================] - 29s 111ms/step - loss: 0.1661 - accuracy: 0.9507 - val_loss: 0.1585 - val_accuracy: 0.9627\n",
      "Epoch 6/500\n",
      "259/259 [==============================] - 29s 110ms/step - loss: 0.1468 - accuracy: 0.9604 - val_loss: 0.1519 - val_accuracy: 0.9612\n",
      "Epoch 7/500\n",
      "259/259 [==============================] - 29s 113ms/step - loss: 0.1284 - accuracy: 0.9623 - val_loss: 0.1456 - val_accuracy: 0.9623\n",
      "Epoch 8/500\n",
      "259/259 [==============================] - 29s 111ms/step - loss: 0.1239 - accuracy: 0.9634 - val_loss: 0.1983 - val_accuracy: 0.9645\n",
      "Epoch 9/500\n",
      "259/259 [==============================] - 29s 113ms/step - loss: 0.1176 - accuracy: 0.9680 - val_loss: 0.2782 - val_accuracy: 0.9533\n",
      "Epoch 10/500\n",
      "259/259 [==============================] - 29s 113ms/step - loss: 0.1052 - accuracy: 0.9744 - val_loss: 0.2350 - val_accuracy: 0.9591\n",
      "Epoch 11/500\n",
      "259/259 [==============================] - 28s 109ms/step - loss: 0.0982 - accuracy: 0.9748 - val_loss: 0.1964 - val_accuracy: 0.9663\n",
      "Epoch 12/500\n",
      "259/259 [==============================] - 28s 109ms/step - loss: 0.1043 - accuracy: 0.9737 - val_loss: 0.2510 - val_accuracy: 0.9656\n",
      "Epoch 13/500\n",
      "259/259 [==============================] - 29s 111ms/step - loss: 0.0671 - accuracy: 0.9791 - val_loss: 0.2492 - val_accuracy: 0.9667\n",
      "Epoch 14/500\n",
      "259/259 [==============================] - 28s 109ms/step - loss: 0.0759 - accuracy: 0.9813 - val_loss: 0.2509 - val_accuracy: 0.9692\n",
      "Epoch 15/500\n",
      "259/259 [==============================] - 28s 110ms/step - loss: 0.0716 - accuracy: 0.9821 - val_loss: 0.2501 - val_accuracy: 0.9645\n",
      "Epoch 16/500\n",
      "259/259 [==============================] - 30s 115ms/step - loss: 0.0721 - accuracy: 0.9825 - val_loss: 0.2193 - val_accuracy: 0.9674\n",
      "Epoch 17/500\n",
      "259/259 [==============================] - 29s 112ms/step - loss: 0.0628 - accuracy: 0.9837 - val_loss: 0.2329 - val_accuracy: 0.9663\n"
     ]
    }
   ],
   "source": [
    "inception_model = fit_convnet_model(transfer_learning_mod, train_data, validation_data)"
   ]
  },
  {
   "cell_type": "markdown",
   "id": "2be5ae8e",
   "metadata": {},
   "source": [
    "### ResNet Model"
   ]
  },
  {
   "cell_type": "code",
   "execution_count": 18,
   "id": "e9c1e237",
   "metadata": {},
   "outputs": [],
   "source": [
    "from keras.applications import ResNet50"
   ]
  },
  {
   "cell_type": "code",
   "execution_count": 19,
   "id": "6cd2d194",
   "metadata": {},
   "outputs": [],
   "source": [
    "def build_transfer_learning_model():\n",
    "    \n",
    "    # return this variable\n",
    "    model = None\n",
    "\n",
    "    model_input = keras.Input(shape = (299, 299, 3))\n",
    "    \n",
    "    base_model = ResNet50(input_shape = (299, 299, 3), weights='imagenet', include_top=False)\n",
    "\n",
    "    # make the weights in the base model non-trainable\n",
    "    for layer in base_model.layers:\n",
    "      layer.trainable = False\n",
    "\n",
    "    # combine the base model with a dense layer and output layer for the 10 classes\n",
    "    # the preprocess_input transforms input data according to how the model was trained\n",
    "    \n",
    "    x = keras.applications.resnet50.preprocess_input(model_input)\n",
    "    x = base_model(x)\n",
    "    x = keras.layers.Flatten()(x)\n",
    "    x = keras.layers.Dense(256, activation = 'relu')(x)\n",
    "    x = keras.layers.Dropout(0.5)(x)\n",
    "    output = keras.layers.Dense(1, activation = 'sigmoid')(x)\n",
    "\n",
    "    model = keras.Model(model_input, output)\n",
    "\n",
    "    model.compile(loss = 'binary_crossentropy', metrics = ['accuracy'])\n",
    "    \n",
    "    return model"
   ]
  },
  {
   "cell_type": "code",
   "execution_count": 20,
   "id": "0db51ddd",
   "metadata": {},
   "outputs": [],
   "source": [
    "transfer_learning_mod = build_transfer_learning_model()"
   ]
  },
  {
   "cell_type": "code",
   "execution_count": 21,
   "id": "be995ac2",
   "metadata": {
    "scrolled": true
   },
   "outputs": [
    {
     "name": "stdout",
     "output_type": "stream",
     "text": [
      "Epoch 1/500\n",
      "259/259 [==============================] - 34s 119ms/step - loss: 6.7822 - accuracy: 0.8854 - val_loss: 0.3513 - val_accuracy: 0.9464\n",
      "Epoch 2/500\n",
      "259/259 [==============================] - 29s 112ms/step - loss: 0.4130 - accuracy: 0.9372 - val_loss: 0.1942 - val_accuracy: 0.9634\n",
      "Epoch 3/500\n",
      "259/259 [==============================] - 30s 114ms/step - loss: 0.3029 - accuracy: 0.9567 - val_loss: 0.1893 - val_accuracy: 0.9667\n",
      "Epoch 4/500\n",
      "259/259 [==============================] - 29s 113ms/step - loss: 0.1809 - accuracy: 0.9666 - val_loss: 0.2687 - val_accuracy: 0.9663\n",
      "Epoch 5/500\n",
      "259/259 [==============================] - 29s 113ms/step - loss: 0.1803 - accuracy: 0.9724 - val_loss: 0.1979 - val_accuracy: 0.9739\n",
      "Epoch 6/500\n",
      "259/259 [==============================] - 29s 113ms/step - loss: 0.1359 - accuracy: 0.9754 - val_loss: 0.2158 - val_accuracy: 0.9779\n",
      "Epoch 7/500\n",
      "259/259 [==============================] - 29s 113ms/step - loss: 0.1353 - accuracy: 0.9788 - val_loss: 0.2454 - val_accuracy: 0.9804\n",
      "Epoch 8/500\n",
      "259/259 [==============================] - 29s 112ms/step - loss: 0.1363 - accuracy: 0.9810 - val_loss: 0.1967 - val_accuracy: 0.9775\n",
      "Epoch 9/500\n",
      "259/259 [==============================] - 28s 108ms/step - loss: 0.0951 - accuracy: 0.9838 - val_loss: 0.1929 - val_accuracy: 0.9841\n",
      "Epoch 10/500\n",
      "259/259 [==============================] - 29s 110ms/step - loss: 0.0693 - accuracy: 0.9889 - val_loss: 0.4746 - val_accuracy: 0.9692\n",
      "Epoch 11/500\n",
      "259/259 [==============================] - 29s 111ms/step - loss: 0.0950 - accuracy: 0.9873 - val_loss: 0.2677 - val_accuracy: 0.9819\n",
      "Epoch 12/500\n",
      "259/259 [==============================] - 29s 112ms/step - loss: 0.0658 - accuracy: 0.9900 - val_loss: 0.1793 - val_accuracy: 0.9866\n",
      "Epoch 13/500\n",
      "259/259 [==============================] - 29s 112ms/step - loss: 0.0620 - accuracy: 0.9914 - val_loss: 0.2198 - val_accuracy: 0.9804\n",
      "Epoch 14/500\n",
      "259/259 [==============================] - 29s 111ms/step - loss: 0.0475 - accuracy: 0.9913 - val_loss: 0.3335 - val_accuracy: 0.9823\n",
      "Epoch 15/500\n",
      "259/259 [==============================] - 30s 115ms/step - loss: 0.0543 - accuracy: 0.9920 - val_loss: 0.2268 - val_accuracy: 0.9862\n",
      "Epoch 16/500\n",
      "259/259 [==============================] - 29s 113ms/step - loss: 0.0547 - accuracy: 0.9926 - val_loss: 0.2917 - val_accuracy: 0.9815\n",
      "Epoch 17/500\n",
      "259/259 [==============================] - 30s 115ms/step - loss: 0.0665 - accuracy: 0.9901 - val_loss: 0.2745 - val_accuracy: 0.9833\n",
      "Epoch 18/500\n",
      "259/259 [==============================] - 29s 113ms/step - loss: 0.0510 - accuracy: 0.9923 - val_loss: 0.3547 - val_accuracy: 0.9826\n",
      "Epoch 19/500\n",
      "259/259 [==============================] - 30s 114ms/step - loss: 0.0351 - accuracy: 0.9941 - val_loss: 0.3210 - val_accuracy: 0.9830\n",
      "Epoch 20/500\n",
      "259/259 [==============================] - 29s 111ms/step - loss: 0.0414 - accuracy: 0.9936 - val_loss: 0.2800 - val_accuracy: 0.9823\n",
      "Epoch 21/500\n",
      "259/259 [==============================] - 29s 112ms/step - loss: 0.0464 - accuracy: 0.9923 - val_loss: 0.4197 - val_accuracy: 0.9801\n",
      "Epoch 22/500\n",
      "259/259 [==============================] - 30s 116ms/step - loss: 0.0426 - accuracy: 0.9932 - val_loss: 0.9564 - val_accuracy: 0.9507\n"
     ]
    }
   ],
   "source": [
    "resnet_model = fit_convnet_model(transfer_learning_mod, train_data, validation_data)"
   ]
  },
  {
   "cell_type": "code",
   "execution_count": 22,
   "id": "d10a6a37",
   "metadata": {},
   "outputs": [
    {
     "name": "stdout",
     "output_type": "stream",
     "text": [
      "87/87 [==============================] - 7s 80ms/step - loss: 0.8157 - accuracy: 0.9504\n"
     ]
    }
   ],
   "source": [
    "results = resnet_model.evaluate(test_data)"
   ]
  },
  {
   "cell_type": "code",
   "execution_count": 23,
   "id": "60cb16ca",
   "metadata": {},
   "outputs": [
    {
     "name": "stdout",
     "output_type": "stream",
     "text": [
      "87/87 [==============================] - 7s 76ms/step\n"
     ]
    },
    {
     "data": {
      "text/plain": [
       "array([[1.000000e+00],\n",
       "       [1.000000e+00],\n",
       "       [0.000000e+00],\n",
       "       ...,\n",
       "       [1.000000e+00],\n",
       "       [5.972717e-28],\n",
       "       [9.714957e-01]], dtype=float32)"
      ]
     },
     "execution_count": 23,
     "metadata": {},
     "output_type": "execute_result"
    }
   ],
   "source": [
    "predictions = resnet_model.predict(test_data)\n",
    "predictions"
   ]
  },
  {
   "cell_type": "markdown",
   "id": "4724b78a",
   "metadata": {},
   "source": [
    "### ResNet with Dropout 0.25"
   ]
  },
  {
   "cell_type": "code",
   "execution_count": null,
   "id": "61670637",
   "metadata": {},
   "outputs": [],
   "source": []
  },
  {
   "cell_type": "code",
   "execution_count": 24,
   "id": "79a901f5",
   "metadata": {},
   "outputs": [],
   "source": [
    "def build_transfer_learning_model():\n",
    "    \n",
    "    # return this variable\n",
    "    model = None\n",
    "\n",
    "    model_input = keras.Input(shape = (299, 299, 3))\n",
    "    \n",
    "    base_model = ResNet50(input_shape = (299, 299, 3), weights='imagenet', include_top=False)\n",
    "\n",
    "    # make the weights in the base model non-trainable\n",
    "    for layer in base_model.layers:\n",
    "      layer.trainable = False\n",
    "\n",
    "    # combine the base model with a dense layer and output layer for the 10 classes\n",
    "    # the preprocess_input transforms input data according to how the model was trained\n",
    "    \n",
    "    x = keras.applications.resnet50.preprocess_input(model_input)\n",
    "    x = base_model(x)\n",
    "    x = keras.layers.Flatten()(x)\n",
    "    x = keras.layers.Dense(256, activation = 'relu')(x)\n",
    "    x = keras.layers.Dropout(0.25)(x)\n",
    "    output = keras.layers.Dense(1, activation = 'sigmoid')(x)\n",
    "\n",
    "    model = keras.Model(model_input, output)\n",
    "\n",
    "    model.compile(loss = 'binary_crossentropy', metrics = ['accuracy'])\n",
    "    \n",
    "    return model"
   ]
  },
  {
   "cell_type": "code",
   "execution_count": 25,
   "id": "a3e2c427",
   "metadata": {},
   "outputs": [],
   "source": [
    "transfer_learning_mod = build_transfer_learning_model()"
   ]
  },
  {
   "cell_type": "code",
   "execution_count": 26,
   "id": "1fc46f6c",
   "metadata": {
    "scrolled": true
   },
   "outputs": [
    {
     "name": "stdout",
     "output_type": "stream",
     "text": [
      "Epoch 1/500\n",
      "259/259 [==============================] - 33s 116ms/step - loss: 4.4181 - accuracy: 0.8876 - val_loss: 0.1618 - val_accuracy: 0.9576\n",
      "Epoch 2/500\n",
      "259/259 [==============================] - 29s 112ms/step - loss: 0.2038 - accuracy: 0.9450 - val_loss: 0.1403 - val_accuracy: 0.9649\n",
      "Epoch 3/500\n",
      "259/259 [==============================] - 29s 111ms/step - loss: 0.1681 - accuracy: 0.9616 - val_loss: 0.1105 - val_accuracy: 0.9754\n",
      "Epoch 4/500\n",
      "259/259 [==============================] - 29s 112ms/step - loss: 0.1318 - accuracy: 0.9683 - val_loss: 0.1379 - val_accuracy: 0.9703\n",
      "Epoch 5/500\n",
      "259/259 [==============================] - 29s 112ms/step - loss: 0.0878 - accuracy: 0.9763 - val_loss: 0.1571 - val_accuracy: 0.9750\n",
      "Epoch 6/500\n",
      "259/259 [==============================] - 29s 111ms/step - loss: 0.0923 - accuracy: 0.9790 - val_loss: 0.1298 - val_accuracy: 0.9754\n",
      "Epoch 7/500\n",
      "259/259 [==============================] - 29s 111ms/step - loss: 0.0710 - accuracy: 0.9824 - val_loss: 0.1430 - val_accuracy: 0.9819\n",
      "Epoch 8/500\n",
      "259/259 [==============================] - 29s 111ms/step - loss: 0.0577 - accuracy: 0.9858 - val_loss: 0.1269 - val_accuracy: 0.9819\n",
      "Epoch 9/500\n",
      "259/259 [==============================] - 30s 114ms/step - loss: 0.0528 - accuracy: 0.9865 - val_loss: 0.1388 - val_accuracy: 0.9830\n",
      "Epoch 10/500\n",
      "259/259 [==============================] - 30s 114ms/step - loss: 0.0480 - accuracy: 0.9885 - val_loss: 0.2050 - val_accuracy: 0.9736\n",
      "Epoch 11/500\n",
      "259/259 [==============================] - 29s 110ms/step - loss: 0.0452 - accuracy: 0.9896 - val_loss: 0.1623 - val_accuracy: 0.9844\n",
      "Epoch 12/500\n",
      "259/259 [==============================] - 29s 113ms/step - loss: 0.0403 - accuracy: 0.9914 - val_loss: 0.1254 - val_accuracy: 0.9819\n",
      "Epoch 13/500\n",
      "259/259 [==============================] - 29s 112ms/step - loss: 0.0494 - accuracy: 0.9885 - val_loss: 0.1705 - val_accuracy: 0.9804\n"
     ]
    }
   ],
   "source": [
    "resnet25_model = fit_convnet_model(transfer_learning_mod, train_data, validation_data)"
   ]
  },
  {
   "cell_type": "code",
   "execution_count": 27,
   "id": "8673999e",
   "metadata": {},
   "outputs": [
    {
     "name": "stdout",
     "output_type": "stream",
     "text": [
      "87/87 [==============================] - 7s 78ms/step - loss: 0.1093 - accuracy: 0.9844\n"
     ]
    }
   ],
   "source": [
    "results = resnet25_model.evaluate(test_data)"
   ]
  },
  {
   "cell_type": "code",
   "execution_count": 28,
   "id": "8cc4a37d",
   "metadata": {},
   "outputs": [
    {
     "name": "stdout",
     "output_type": "stream",
     "text": [
      "87/87 [==============================] - 7s 75ms/step\n"
     ]
    },
    {
     "data": {
      "text/plain": [
       "array([[1.000000e+00],\n",
       "       [1.000000e+00],\n",
       "       [1.000000e+00],\n",
       "       ...,\n",
       "       [1.000000e+00],\n",
       "       [5.434097e-27],\n",
       "       [6.299504e-27]], dtype=float32)"
      ]
     },
     "execution_count": 28,
     "metadata": {},
     "output_type": "execute_result"
    }
   ],
   "source": [
    "predictions = resnet25_model.predict(test_data)\n",
    "predictions"
   ]
  },
  {
   "cell_type": "code",
   "execution_count": null,
   "id": "ed5d04cf",
   "metadata": {},
   "outputs": [],
   "source": []
  },
  {
   "cell_type": "code",
   "execution_count": null,
   "id": "b6a69bcc",
   "metadata": {},
   "outputs": [],
   "source": []
  },
  {
   "cell_type": "code",
   "execution_count": null,
   "id": "34b28245",
   "metadata": {},
   "outputs": [],
   "source": []
  },
  {
   "cell_type": "code",
   "execution_count": null,
   "id": "6e15820b",
   "metadata": {},
   "outputs": [],
   "source": []
  },
  {
   "cell_type": "markdown",
   "id": "48a4162f",
   "metadata": {},
   "source": [
    "### Final Model"
   ]
  },
  {
   "cell_type": "code",
   "execution_count": null,
   "id": "8a976382",
   "metadata": {},
   "outputs": [],
   "source": [
    "print(\"predictions shape:\", predictions.shape)"
   ]
  },
  {
   "cell_type": "code",
   "execution_count": null,
   "id": "6f238966",
   "metadata": {},
   "outputs": [],
   "source": [
    "dict(zip(resnet_model.metrics_names, predictions))"
   ]
  },
  {
   "cell_type": "code",
   "execution_count": null,
   "id": "3dbd8987",
   "metadata": {},
   "outputs": [],
   "source": [
    "# Concatenate train and validation data\n",
    "fulltrain = train_data.concatenate(validation_data)"
   ]
  },
  {
   "cell_type": "code",
   "execution_count": null,
   "id": "b723de92",
   "metadata": {},
   "outputs": [],
   "source": [
    "# Fit the model on 80% data\n",
    "final_model = resnet_model.fit(fulltrain)"
   ]
  },
  {
   "cell_type": "code",
   "execution_count": null,
   "id": "5377df29",
   "metadata": {
    "scrolled": true
   },
   "outputs": [],
   "source": [
    "filename = 'final_model.pkl'\n",
    "pkl.dump(final_model, open(filename, 'wb'))"
   ]
  },
  {
   "cell_type": "code",
   "execution_count": null,
   "id": "115a35a8",
   "metadata": {},
   "outputs": [],
   "source": [
    "import joblib\n",
    "filename = 'final_model.pkl'\n",
    "joblib.dump(final_model, filename)"
   ]
  },
  {
   "cell_type": "code",
   "execution_count": null,
   "id": "82a33b8e",
   "metadata": {},
   "outputs": [],
   "source": []
  }
 ],
 "metadata": {
  "kernelspec": {
   "display_name": "tf_gpu",
   "language": "python",
   "name": "tf_gpu"
  },
  "language_info": {
   "codemirror_mode": {
    "name": "ipython",
    "version": 3
   },
   "file_extension": ".py",
   "mimetype": "text/x-python",
   "name": "python",
   "nbconvert_exporter": "python",
   "pygments_lexer": "ipython3",
   "version": "3.9.15"
  }
 },
 "nbformat": 4,
 "nbformat_minor": 5
}
