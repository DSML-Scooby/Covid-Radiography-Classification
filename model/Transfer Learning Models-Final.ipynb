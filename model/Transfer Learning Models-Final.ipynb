{
 "cells": [
  {
   "cell_type": "code",
   "execution_count": 1,
   "id": "1e640136",
   "metadata": {},
   "outputs": [
    {
     "data": {
      "text/plain": [
       "<AddedDllDirectory('C:/Program Files/NVIDIA GPU Computing Toolkit/CUDA/v11.2/bin')>"
      ]
     },
     "execution_count": 1,
     "metadata": {},
     "output_type": "execute_result"
    }
   ],
   "source": [
    "import os\n",
    "# Add directory for NVIDIA gpu. Ignore if not Windows\n",
    "os.add_dll_directory(\"C:/Program Files/NVIDIA GPU Computing Toolkit/CUDA/v11.2/bin\")"
   ]
  },
  {
   "cell_type": "code",
   "execution_count": 2,
   "id": "0318e036",
   "metadata": {},
   "outputs": [
    {
     "name": "stdout",
     "output_type": "stream",
     "text": [
      "[PhysicalDevice(name='/physical_device:GPU:0', device_type='GPU')]\n"
     ]
    }
   ],
   "source": [
    "import tensorflow as tf\n",
    "# print(tf.reduce_sum(tf.random.normal([1000, 1000])))\n",
    "# Confirm tensorflow running on gpu\n",
    "print(tf.config.list_physical_devices('GPU'))"
   ]
  },
  {
   "cell_type": "code",
   "execution_count": 3,
   "id": "78a06e8b",
   "metadata": {},
   "outputs": [],
   "source": [
    "from tensorflow import keras\n",
    "from tensorflow.keras.utils import image_dataset_from_directory\n",
    "from tensorflow.keras.layers.experimental.preprocessing import Resizing\n",
    "from sklearn.metrics import confusion_matrix, classification_report\n",
    "import matplotlib.pyplot as plt\n",
    "import seaborn as sns\n",
    "import numpy as np\n",
    "import pickle as pkl"
   ]
  },
  {
   "cell_type": "markdown",
   "id": "3992ac7f",
   "metadata": {},
   "source": [
    "### Base CovNet Model"
   ]
  },
  {
   "cell_type": "code",
   "execution_count": 4,
   "id": "10640390",
   "metadata": {},
   "outputs": [],
   "source": [
    "# function to build the conv net base\n",
    "\n",
    "\n",
    "# complete this function\n",
    "def build_base_convnet_model():\n",
    "    \"\"\"Re-create the model from the first prompt, but with a different input shape\"\"\"\n",
    "    \n",
    "    # Return this variable\n",
    "    model = None\n",
    "    \n",
    "    # YOUR CODE HERE\n",
    "    inputs = keras.Input(shape = (299, 299, 3))\n",
    "    x = keras.layers.Conv2D(filters = 32, kernel_size = 3, activation = 'relu')(inputs)\n",
    "    x = keras.layers.MaxPooling2D(pool_size = 2)(x)\n",
    "    x = keras.layers.Conv2D(filters = 64, kernel_size = 3, activation = 'relu')(x)\n",
    "    x = keras.layers.MaxPooling2D(pool_size = 2)(x)\n",
    "    x = keras.layers.Conv2D(filters = 128, kernel_size = 3, activation = 'relu')(x)\n",
    "    x = keras.layers.Flatten()(x)\n",
    "    outputs = keras.layers.Dense(1, activation = 'sigmoid')(x)\n",
    "\n",
    "    model = keras.Model(inputs, outputs)\n",
    "\n",
    "    model.compile(loss = 'binary_crossentropy', metrics = ['accuracy'])\n",
    "    \n",
    "    return model\n",
    "\n",
    "def load_image_data(base_path: str) -> tuple:\n",
    "    \"\"\"Write a function that accepts a base path that contains all of the directories, and creates training,\n",
    "    validation and test sets\"\"\"\n",
    "    \n",
    "    # Return these variables from the function\n",
    "    train_data = keras.utils.image_dataset_from_directory(f'{base_path}/train', \n",
    "                                                          image_size = (299, 299),\n",
    "                                                          batch_size = 64)\n",
    "\n",
    "    validation_data = keras.utils.image_dataset_from_directory(f'{base_path}/val', \n",
    "                                                          image_size = (299, 299),\n",
    "                                                          batch_size = 64)\n",
    "    \n",
    "    test_data = keras.utils.image_dataset_from_directory(f'{base_path}/test', \n",
    "                                                          image_size = (299, 299),\n",
    "                                                          batch_size = 64)\n",
    "    \n",
    "    # YOUR CODE HERE\n",
    "    \n",
    "    \n",
    "    return train_data, validation_data, test_data\n",
    "\n",
    "def fit_model(model, train_set, validation_set):\n",
    "    \"\"\"Fit a model with the above stated criteria\"\"\"\n",
    "    early_stopping = keras.callbacks.EarlyStopping(patience = 10)\n",
    "    \n",
    "    # YOUR CODE HERE\n",
    "    model.fit(train_set, \n",
    "              validation_data = validation_set, \n",
    "              callbacks = [early_stopping], \n",
    "              epochs = 500)\n",
    "    \n",
    "    return model"
   ]
  },
  {
   "cell_type": "code",
   "execution_count": 5,
   "id": "1dee887e",
   "metadata": {},
   "outputs": [
    {
     "name": "stdout",
     "output_type": "stream",
     "text": [
      "Found 8284 files belonging to 2 classes.\n",
      "Found 2761 files belonging to 2 classes.\n",
      "Found 2763 files belonging to 2 classes.\n"
     ]
    }
   ],
   "source": [
    "# run this cell to create your base convolution model and training, validation & test sets\n",
    "base_mod = build_base_convnet_model()\n",
    "train_data, validation_data, test_data = load_image_data('../data/COVID-19_Radiography_Dataset/TwoClasses/split')"
   ]
  },
  {
   "cell_type": "code",
   "execution_count": 6,
   "id": "1f09b370",
   "metadata": {
    "scrolled": true
   },
   "outputs": [
    {
     "name": "stdout",
     "output_type": "stream",
     "text": [
      "Epoch 1/500\n",
      "130/130 [==============================] - 66s 449ms/step - loss: 67.5490 - accuracy: 0.7403 - val_loss: 0.3755 - val_accuracy: 0.8356\n",
      "Epoch 2/500\n",
      "130/130 [==============================] - 20s 155ms/step - loss: 24.8731 - accuracy: 0.7859 - val_loss: 3.1400 - val_accuracy: 0.7841\n",
      "Epoch 3/500\n",
      "130/130 [==============================] - 20s 152ms/step - loss: 3.9616 - accuracy: 0.8419 - val_loss: 0.4280 - val_accuracy: 0.8526\n",
      "Epoch 4/500\n",
      "130/130 [==============================] - 22s 169ms/step - loss: 26.9102 - accuracy: 0.8416 - val_loss: 2.7879 - val_accuracy: 0.8700\n",
      "Epoch 5/500\n",
      "130/130 [==============================] - 20s 152ms/step - loss: 2.7133 - accuracy: 0.8842 - val_loss: 0.6322 - val_accuracy: 0.8627\n",
      "Epoch 6/500\n",
      "130/130 [==============================] - 20s 150ms/step - loss: 3.0722 - accuracy: 0.9019 - val_loss: 0.3973 - val_accuracy: 0.8939\n",
      "Epoch 7/500\n",
      "130/130 [==============================] - 21s 159ms/step - loss: 2.6714 - accuracy: 0.9056 - val_loss: 1.4136 - val_accuracy: 0.8939\n",
      "Epoch 8/500\n",
      "130/130 [==============================] - 20s 156ms/step - loss: 1.3814 - accuracy: 0.9328 - val_loss: 4.3990 - val_accuracy: 0.7124\n",
      "Epoch 9/500\n",
      "130/130 [==============================] - 21s 158ms/step - loss: 3.3792 - accuracy: 0.9169 - val_loss: 1.4519 - val_accuracy: 0.9095\n",
      "Epoch 10/500\n",
      "130/130 [==============================] - 22s 165ms/step - loss: 1.3339 - accuracy: 0.9440 - val_loss: 1.4350 - val_accuracy: 0.8982\n",
      "Epoch 11/500\n",
      "130/130 [==============================] - 21s 161ms/step - loss: 2.3035 - accuracy: 0.9394 - val_loss: 1.5423 - val_accuracy: 0.9044\n"
     ]
    }
   ],
   "source": [
    "fitted_model = fit_model(base_mod, train_data, validation_data)"
   ]
  },
  {
   "cell_type": "code",
   "execution_count": 7,
   "id": "2a9c9980",
   "metadata": {},
   "outputs": [
    {
     "name": "stdout",
     "output_type": "stream",
     "text": [
      "44/44 [==============================] - 3s 70ms/step\n"
     ]
    },
    {
     "data": {
      "text/plain": [
       "array([[ 189,  535],\n",
       "       [ 512, 1527]], dtype=int64)"
      ]
     },
     "execution_count": 7,
     "metadata": {},
     "output_type": "execute_result"
    }
   ],
   "source": [
    "# Create test labels from image_dataset\n",
    "test_labels = np.concatenate([y for x, y in test_data], axis=0)\n",
    "\n",
    "# Flatten function needed to flatten nested lists from predictions\n",
    "def flatten(l):\n",
    "    return [item for sublist in l for item in sublist]\n",
    "\n",
    "# Some predictions are not correctly labeled as 1,0\n",
    "predictions = np.where(fitted_model.predict(test_data) > 0.5, 1, 0)\n",
    "predictions\n",
    "\n",
    "y_preds = flatten(predictions)\n",
    "\n",
    "cm = confusion_matrix(test_labels, y_preds)\n",
    "cm"
   ]
  },
  {
   "cell_type": "code",
   "execution_count": 8,
   "id": "2f71fbfa",
   "metadata": {},
   "outputs": [
    {
     "name": "stdout",
     "output_type": "stream",
     "text": [
      "                  precision    recall  f1-score   support\n",
      "\n",
      " Covid (Class 0)       0.27      0.26      0.27       724\n",
      "Normal (Class 1)       0.74      0.75      0.74      2039\n",
      "\n",
      "        accuracy                           0.62      2763\n",
      "       macro avg       0.51      0.50      0.50      2763\n",
      "    weighted avg       0.62      0.62      0.62      2763\n",
      "\n"
     ]
    }
   ],
   "source": [
    "target_names = ['Covid (Class 0)', 'Normal (Class 1)']\n",
    "print(classification_report(test_labels, y_preds, target_names = target_names))"
   ]
  },
  {
   "cell_type": "markdown",
   "id": "234e5f16",
   "metadata": {},
   "source": [
    "### Inception V3 Model\n",
    "\n"
   ]
  },
  {
   "cell_type": "code",
   "execution_count": 9,
   "id": "2f3f9f68",
   "metadata": {},
   "outputs": [],
   "source": [
    "from keras.applications import InceptionV3"
   ]
  },
  {
   "cell_type": "code",
   "execution_count": 10,
   "id": "f2bc3005",
   "metadata": {},
   "outputs": [],
   "source": [
    "def build_transfer_learning_model():\n",
    "    \n",
    "    # return this variable\n",
    "    model = None\n",
    "\n",
    "    model_input = keras.Input(shape = (299, 299, 3))\n",
    "    \n",
    "    base_model = InceptionV3(input_shape = (299, 299, 3), weights='imagenet', include_top=False)\n",
    "\n",
    "    # make the weights in the base model non-trainable\n",
    "    for layer in base_model.layers:\n",
    "      layer.trainable = False\n",
    "\n",
    "    # combine the base model with a dense layer and output layer for the 10 classes\n",
    "    # the preprocess_input transforms input data according to how the model was trained\n",
    "    \n",
    "    x = keras.applications.inception_v3.preprocess_input(model_input)\n",
    "    x = base_model(x)\n",
    "    x = keras.layers.Flatten()(x)\n",
    "    x = keras.layers.Dense(256, activation = 'relu')(x)\n",
    "    x = keras.layers.Dropout(0.5)(x)\n",
    "    output = keras.layers.Dense(1, activation = 'sigmoid')(x)\n",
    "\n",
    "    model = keras.Model(model_input, output)\n",
    "\n",
    "    model.compile(loss = 'binary_crossentropy', metrics = ['accuracy'])\n",
    "    \n",
    "    return model"
   ]
  },
  {
   "cell_type": "code",
   "execution_count": 11,
   "id": "4f6e18b8",
   "metadata": {},
   "outputs": [],
   "source": [
    "transfer_learning_mod = build_transfer_learning_model()"
   ]
  },
  {
   "cell_type": "code",
   "execution_count": 12,
   "id": "a4c0ffde",
   "metadata": {},
   "outputs": [
    {
     "name": "stdout",
     "output_type": "stream",
     "text": [
      "Epoch 1/500\n",
      "130/130 [==============================] - 31s 208ms/step - loss: 5.9614 - accuracy: 0.8166 - val_loss: 0.2429 - val_accuracy: 0.9218\n",
      "Epoch 2/500\n",
      "130/130 [==============================] - 25s 193ms/step - loss: 0.4760 - accuracy: 0.8859 - val_loss: 0.8134 - val_accuracy: 0.8196\n",
      "Epoch 3/500\n",
      "130/130 [==============================] - 25s 193ms/step - loss: 0.3964 - accuracy: 0.9069 - val_loss: 0.1400 - val_accuracy: 0.9522\n",
      "Epoch 4/500\n",
      "130/130 [==============================] - 25s 189ms/step - loss: 0.2737 - accuracy: 0.9314 - val_loss: 0.1448 - val_accuracy: 0.9511\n",
      "Epoch 5/500\n",
      "130/130 [==============================] - 26s 197ms/step - loss: 0.2157 - accuracy: 0.9394 - val_loss: 0.1240 - val_accuracy: 0.9598\n",
      "Epoch 6/500\n",
      "130/130 [==============================] - 26s 195ms/step - loss: 0.1798 - accuracy: 0.9497 - val_loss: 0.1472 - val_accuracy: 0.9602\n",
      "Epoch 7/500\n",
      "130/130 [==============================] - 25s 195ms/step - loss: 0.1961 - accuracy: 0.9505 - val_loss: 0.1655 - val_accuracy: 0.9631\n",
      "Epoch 8/500\n",
      "130/130 [==============================] - 25s 191ms/step - loss: 0.1267 - accuracy: 0.9617 - val_loss: 0.1652 - val_accuracy: 0.9656\n",
      "Epoch 9/500\n",
      "130/130 [==============================] - 25s 194ms/step - loss: 0.1180 - accuracy: 0.9657 - val_loss: 0.1690 - val_accuracy: 0.9540\n",
      "Epoch 10/500\n",
      "130/130 [==============================] - 26s 195ms/step - loss: 0.0803 - accuracy: 0.9701 - val_loss: 0.1663 - val_accuracy: 0.9678\n",
      "Epoch 11/500\n",
      "130/130 [==============================] - 26s 196ms/step - loss: 0.0860 - accuracy: 0.9715 - val_loss: 0.1982 - val_accuracy: 0.9641\n",
      "Epoch 12/500\n",
      "130/130 [==============================] - 25s 194ms/step - loss: 0.1017 - accuracy: 0.9731 - val_loss: 0.1791 - val_accuracy: 0.9627\n",
      "Epoch 13/500\n",
      "130/130 [==============================] - 25s 194ms/step - loss: 0.0895 - accuracy: 0.9736 - val_loss: 0.2251 - val_accuracy: 0.9616\n",
      "Epoch 14/500\n",
      "130/130 [==============================] - 25s 194ms/step - loss: 0.0682 - accuracy: 0.9761 - val_loss: 0.1583 - val_accuracy: 0.9674\n",
      "Epoch 15/500\n",
      "130/130 [==============================] - 25s 193ms/step - loss: 0.0589 - accuracy: 0.9797 - val_loss: 0.2112 - val_accuracy: 0.9660\n"
     ]
    }
   ],
   "source": [
    "inception_model = fit_model(transfer_learning_mod, train_data, validation_data)"
   ]
  },
  {
   "cell_type": "code",
   "execution_count": 13,
   "id": "553fcf44",
   "metadata": {},
   "outputs": [
    {
     "name": "stdout",
     "output_type": "stream",
     "text": [
      "44/44 [==============================] - 6s 139ms/step - loss: 0.1545 - accuracy: 0.9678\n"
     ]
    }
   ],
   "source": [
    "inc_results = inception_model.evaluate(test_data)"
   ]
  },
  {
   "cell_type": "code",
   "execution_count": 14,
   "id": "d2843cac",
   "metadata": {},
   "outputs": [
    {
     "name": "stdout",
     "output_type": "stream",
     "text": [
      "44/44 [==============================] - 3s 69ms/step\n"
     ]
    },
    {
     "data": {
      "text/plain": [
       "<AxesSubplot: >"
      ]
     },
     "execution_count": 14,
     "metadata": {},
     "output_type": "execute_result"
    },
    {
     "data": {
      "image/png": "[encoded data removed]",
      "text/plain": [
       "<Figure size 432x288 with 2 Axes>"
      ]
     },
     "metadata": {
      "needs_background": "light"
     },
     "output_type": "display_data"
    }
   ],
   "source": [
    "# Create test labels from image_dataset\n",
    "test_labels = np.concatenate([y for x, y in test_data], axis=0)\n",
    "\n",
    "# Flatten function needed to flatten nested lists from predictions\n",
    "def flatten(l):\n",
    "    return [item for sublist in l for item in sublist]\n",
    "\n",
    "# Some predictions are not correctly labeled as 1,0\n",
    "predictions = np.where(fitted_model.predict(test_data) > 0.5, 1, 0)\n",
    "predictions\n",
    "\n",
    "y_preds = flatten(predictions)\n",
    "\n",
    "cm = confusion_matrix(test_labels, y_preds)\n",
    "sns.heatmap(cm, annot = True, cmap='Blues', fmt='.4g')"
   ]
  },
  {
   "cell_type": "code",
   "execution_count": 15,
   "id": "7a47e89c",
   "metadata": {},
   "outputs": [
    {
     "name": "stdout",
     "output_type": "stream",
     "text": [
      "                  precision    recall  f1-score   support\n",
      "\n",
      " Covid (Class 0)       0.25      0.24      0.25       724\n",
      "Normal (Class 1)       0.73      0.74      0.74      2039\n",
      "\n",
      "        accuracy                           0.61      2763\n",
      "       macro avg       0.49      0.49      0.49      2763\n",
      "    weighted avg       0.61      0.61      0.61      2763\n",
      "\n"
     ]
    }
   ],
   "source": [
    "target_names = ['Covid (Class 0)', 'Normal (Class 1)']\n",
    "print(classification_report(test_labels, y_preds, target_names = target_names))"
   ]
  },
  {
   "cell_type": "markdown",
   "id": "2be5ae8e",
   "metadata": {},
   "source": [
    "### ResNet Model"
   ]
  },
  {
   "cell_type": "code",
   "execution_count": 16,
   "id": "e9c1e237",
   "metadata": {},
   "outputs": [],
   "source": [
    "from keras.applications import ResNet50"
   ]
  },
  {
   "cell_type": "code",
   "execution_count": 17,
   "id": "6cd2d194",
   "metadata": {},
   "outputs": [],
   "source": [
    "def build_transfer_learning_model():\n",
    "    \n",
    "    # return this variable\n",
    "    model = None\n",
    "\n",
    "    model_input = keras.Input(shape = (299, 299, 3))\n",
    "    \n",
    "    base_model = ResNet50(input_shape = (299, 299, 3), weights='imagenet', include_top=False)\n",
    "\n",
    "    # make the weights in the base model non-trainable\n",
    "    for layer in base_model.layers:\n",
    "      layer.trainable = False\n",
    "\n",
    "    # combine the base model with a dense layer and output layer for the 10 classes\n",
    "    # the preprocess_input transforms input data according to how the model was trained\n",
    "    \n",
    "    x = keras.applications.resnet50.preprocess_input(model_input)\n",
    "    x = base_model(x)\n",
    "    x = keras.layers.Flatten()(x)\n",
    "    x = keras.layers.Dense(256, activation = 'relu')(x)\n",
    "    x = keras.layers.Dropout(0.5)(x)\n",
    "    output = keras.layers.Dense(1, activation = 'sigmoid')(x)\n",
    "\n",
    "    model = keras.Model(model_input, output)\n",
    "\n",
    "    model.compile(loss = 'binary_crossentropy', metrics = ['accuracy'])\n",
    "    \n",
    "    return model"
   ]
  },
  {
   "cell_type": "code",
   "execution_count": 18,
   "id": "0db51ddd",
   "metadata": {},
   "outputs": [],
   "source": [
    "transfer_learning_mod = build_transfer_learning_model()"
   ]
  },
  {
   "cell_type": "code",
   "execution_count": 19,
   "id": "be995ac2",
   "metadata": {
    "scrolled": true
   },
   "outputs": [
    {
     "name": "stdout",
     "output_type": "stream",
     "text": [
      "Epoch 1/500\n",
      "130/130 [==============================] - 29s 202ms/step - loss: 5.3746 - accuracy: 0.8904 - val_loss: 0.9255 - val_accuracy: 0.8989\n",
      "Epoch 2/500\n",
      "130/130 [==============================] - 25s 195ms/step - loss: 0.5181 - accuracy: 0.9357 - val_loss: 0.2654 - val_accuracy: 0.9276\n",
      "Epoch 3/500\n",
      "130/130 [==============================] - 25s 194ms/step - loss: 0.2972 - accuracy: 0.9536 - val_loss: 0.0997 - val_accuracy: 0.9739\n",
      "Epoch 4/500\n",
      "130/130 [==============================] - 26s 199ms/step - loss: 0.3004 - accuracy: 0.9617 - val_loss: 0.1871 - val_accuracy: 0.9750\n",
      "Epoch 5/500\n",
      "130/130 [==============================] - 25s 189ms/step - loss: 0.1564 - accuracy: 0.9714 - val_loss: 0.6624 - val_accuracy: 0.9457\n",
      "Epoch 6/500\n",
      "130/130 [==============================] - 24s 186ms/step - loss: 0.1222 - accuracy: 0.9785 - val_loss: 0.1375 - val_accuracy: 0.9826\n",
      "Epoch 7/500\n",
      "130/130 [==============================] - 24s 186ms/step - loss: 0.0932 - accuracy: 0.9819 - val_loss: 0.1303 - val_accuracy: 0.9852\n",
      "Epoch 8/500\n",
      "130/130 [==============================] - 24s 185ms/step - loss: 0.0771 - accuracy: 0.9850 - val_loss: 0.1252 - val_accuracy: 0.9855\n",
      "Epoch 9/500\n",
      "130/130 [==============================] - 24s 185ms/step - loss: 0.0806 - accuracy: 0.9867 - val_loss: 0.2024 - val_accuracy: 0.9819\n",
      "Epoch 10/500\n",
      "130/130 [==============================] - 24s 186ms/step - loss: 0.0750 - accuracy: 0.9866 - val_loss: 0.1723 - val_accuracy: 0.9848\n",
      "Epoch 11/500\n",
      "130/130 [==============================] - 24s 185ms/step - loss: 0.0487 - accuracy: 0.9914 - val_loss: 0.2287 - val_accuracy: 0.9801\n",
      "Epoch 12/500\n",
      "130/130 [==============================] - 24s 185ms/step - loss: 0.0514 - accuracy: 0.9901 - val_loss: 0.2568 - val_accuracy: 0.9819\n",
      "Epoch 13/500\n",
      "130/130 [==============================] - 24s 186ms/step - loss: 0.0510 - accuracy: 0.9917 - val_loss: 0.3077 - val_accuracy: 0.9739\n"
     ]
    }
   ],
   "source": [
    "resnet_model = fit_model(transfer_learning_mod, train_data, validation_data)"
   ]
  },
  {
   "cell_type": "code",
   "execution_count": 20,
   "id": "d10a6a37",
   "metadata": {},
   "outputs": [
    {
     "name": "stdout",
     "output_type": "stream",
     "text": [
      "44/44 [==============================] - 6s 130ms/step - loss: 0.1733 - accuracy: 0.9772\n"
     ]
    }
   ],
   "source": [
    "results = resnet_model.evaluate(test_data)"
   ]
  },
  {
   "cell_type": "code",
   "execution_count": 21,
   "id": "eafa862c",
   "metadata": {},
   "outputs": [
    {
     "name": "stdout",
     "output_type": "stream",
     "text": [
      "44/44 [==============================] - 6s 127ms/step\n"
     ]
    },
    {
     "data": {
      "text/plain": [
       "<AxesSubplot: >"
      ]
     },
     "execution_count": 21,
     "metadata": {},
     "output_type": "execute_result"
    },
    {
     "data": {
      "image/png": "[encoded data removed]",
      "text/plain": [
       "<Figure size 432x288 with 2 Axes>"
      ]
     },
     "metadata": {
      "needs_background": "light"
     },
     "output_type": "display_data"
    }
   ],
   "source": [
    "# Some predictions are continuous and thus not labeled as 1,0\n",
    "predictions = np.where(resnet_model.predict(test_data) > 0.5, 1, 0)\n",
    "predictions\n",
    "\n",
    "y_preds = flatten(predictions)\n",
    "\n",
    "cm = confusion_matrix(test_labels, y_preds)\n",
    "sns.heatmap(cm, annot = True, cmap='Blues', fmt='.4g')"
   ]
  },
  {
   "cell_type": "code",
   "execution_count": 22,
   "id": "81d72d37",
   "metadata": {
    "scrolled": true
   },
   "outputs": [
    {
     "name": "stdout",
     "output_type": "stream",
     "text": [
      "                  precision    recall  f1-score   support\n",
      "\n",
      " Covid (Class 0)       0.25      0.27      0.26       724\n",
      "Normal (Class 1)       0.73      0.71      0.72      2039\n",
      "\n",
      "        accuracy                           0.60      2763\n",
      "       macro avg       0.49      0.49      0.49      2763\n",
      "    weighted avg       0.61      0.60      0.60      2763\n",
      "\n"
     ]
    }
   ],
   "source": [
    "target_names = ['Covid (Class 0)', 'Normal (Class 1)']\n",
    "print(classification_report(test_labels, y_preds, target_names = target_names))"
   ]
  },
  {
   "cell_type": "markdown",
   "id": "db0cc111",
   "metadata": {},
   "source": [
    "### ResNet with Dropout 0.25"
   ]
  },
  {
   "cell_type": "code",
   "execution_count": 23,
   "id": "449664fe",
   "metadata": {},
   "outputs": [],
   "source": [
    "def build_transfer_learning_model():\n",
    "    \n",
    "    # return this variable\n",
    "    model = None\n",
    "\n",
    "    model_input = keras.Input(shape = (299, 299, 3))\n",
    "    \n",
    "    base_model = ResNet50(input_shape = (299, 299, 3), weights='imagenet', include_top=False)\n",
    "\n",
    "    # make the weights in the base model non-trainable\n",
    "    for layer in base_model.layers:\n",
    "      layer.trainable = False\n",
    "\n",
    "    # combine the base model with a dense layer and output layer for the 10 classes\n",
    "    # the preprocess_input transforms input data according to how the model was trained\n",
    "    \n",
    "    x = keras.applications.resnet50.preprocess_input(model_input)\n",
    "    x = base_model(x)\n",
    "    x = keras.layers.Flatten()(x)\n",
    "    x = keras.layers.Dense(256, activation = 'relu')(x)\n",
    "    x = keras.layers.Dropout(0.25)(x)\n",
    "    output = keras.layers.Dense(1, activation = 'sigmoid')(x)\n",
    "\n",
    "    model = keras.Model(model_input, output)\n",
    "\n",
    "    model.compile(loss = 'binary_crossentropy', metrics = ['accuracy'])\n",
    "    \n",
    "    return model"
   ]
  },
  {
   "cell_type": "code",
   "execution_count": 24,
   "id": "e92d1a81",
   "metadata": {},
   "outputs": [],
   "source": [
    "transfer_learning_mod = build_transfer_learning_model()"
   ]
  },
  {
   "cell_type": "code",
   "execution_count": 25,
   "id": "efa5400e",
   "metadata": {
    "scrolled": true
   },
   "outputs": [
    {
     "name": "stdout",
     "output_type": "stream",
     "text": [
      "Epoch 1/500\n",
      "130/130 [==============================] - 27s 191ms/step - loss: 7.9719 - accuracy: 0.8921 - val_loss: 0.1208 - val_accuracy: 0.9526\n",
      "Epoch 2/500\n",
      "130/130 [==============================] - 24s 186ms/step - loss: 0.3612 - accuracy: 0.9423 - val_loss: 0.1623 - val_accuracy: 0.9736\n",
      "Epoch 3/500\n",
      "130/130 [==============================] - 25s 192ms/step - loss: 0.2030 - accuracy: 0.9683 - val_loss: 0.2385 - val_accuracy: 0.9656\n",
      "Epoch 4/500\n",
      "130/130 [==============================] - 25s 193ms/step - loss: 0.1247 - accuracy: 0.9769 - val_loss: 0.4654 - val_accuracy: 0.9518\n",
      "Epoch 5/500\n",
      "130/130 [==============================] - 25s 190ms/step - loss: 0.0713 - accuracy: 0.9872 - val_loss: 0.3114 - val_accuracy: 0.9717\n",
      "Epoch 6/500\n",
      "130/130 [==============================] - 24s 186ms/step - loss: 0.0838 - accuracy: 0.9876 - val_loss: 0.1757 - val_accuracy: 0.9804\n",
      "Epoch 7/500\n",
      "130/130 [==============================] - 24s 186ms/step - loss: 0.0663 - accuracy: 0.9896 - val_loss: 0.2059 - val_accuracy: 0.9812\n",
      "Epoch 8/500\n",
      "130/130 [==============================] - 24s 185ms/step - loss: 0.0736 - accuracy: 0.9917 - val_loss: 0.1625 - val_accuracy: 0.9837\n",
      "Epoch 9/500\n",
      "130/130 [==============================] - 25s 188ms/step - loss: 0.0412 - accuracy: 0.9930 - val_loss: 0.1425 - val_accuracy: 0.9823\n",
      "Epoch 10/500\n",
      "130/130 [==============================] - 24s 186ms/step - loss: 0.0562 - accuracy: 0.9940 - val_loss: 0.1749 - val_accuracy: 0.9826\n",
      "Epoch 11/500\n",
      "130/130 [==============================] - 24s 187ms/step - loss: 0.0248 - accuracy: 0.9960 - val_loss: 0.1714 - val_accuracy: 0.9859\n",
      "Finished\n"
     ]
    }
   ],
   "source": [
    "resnet25_model = fit_model(transfer_learning_mod, train_data, validation_data)\n",
    "print(\"Finished\")"
   ]
  },
  {
   "cell_type": "code",
   "execution_count": 26,
   "id": "e36856f8",
   "metadata": {},
   "outputs": [
    {
     "name": "stdout",
     "output_type": "stream",
     "text": [
      "44/44 [==============================] - 6s 129ms/step - loss: 0.0959 - accuracy: 0.9888\n"
     ]
    }
   ],
   "source": [
    "results = resnet25_model.evaluate(test_data)"
   ]
  },
  {
   "cell_type": "code",
   "execution_count": 27,
   "id": "22b798d5",
   "metadata": {},
   "outputs": [
    {
     "name": "stdout",
     "output_type": "stream",
     "text": [
      "44/44 [==============================] - 6s 128ms/step\n"
     ]
    },
    {
     "data": {
      "text/plain": [
       "<AxesSubplot: >"
      ]
     },
     "execution_count": 27,
     "metadata": {},
     "output_type": "execute_result"
    },
    {
     "data": {
      "image/png": "[encoded data removed]",
      "text/plain": [
       "<Figure size 432x288 with 2 Axes>"
      ]
     },
     "metadata": {
      "needs_background": "light"
     },
     "output_type": "display_data"
    }
   ],
   "source": [
    "# Some predictions are continuous and thus not labeled as 1,0\n",
    "predictions = np.where(resnet25_model.predict(test_data) > 0.5, 1, 0)\n",
    "predictions\n",
    "\n",
    "y_preds = flatten(predictions)\n",
    "\n",
    "cm = confusion_matrix(test_labels, y_preds)\n",
    "sns.heatmap(cm, annot = True, cmap='Blues', fmt='.4g')"
   ]
  },
  {
   "cell_type": "code",
   "execution_count": 28,
   "id": "e30acc97",
   "metadata": {
    "scrolled": false
   },
   "outputs": [
    {
     "name": "stdout",
     "output_type": "stream",
     "text": [
      "                  precision    recall  f1-score   support\n",
      "\n",
      " Covid (Class 0)       0.26      0.26      0.26       724\n",
      "Normal (Class 1)       0.74      0.74      0.74      2039\n",
      "\n",
      "        accuracy                           0.61      2763\n",
      "       macro avg       0.50      0.50      0.50      2763\n",
      "    weighted avg       0.61      0.61      0.61      2763\n",
      "\n"
     ]
    }
   ],
   "source": [
    "target_names = ['Covid (Class 0)', 'Normal (Class 1)']\n",
    "print(classification_report(test_labels, y_preds, target_names = target_names))"
   ]
  },
  {
   "cell_type": "markdown",
   "id": "355c9198",
   "metadata": {},
   "source": [
    "### Final Model"
   ]
  },
  {
   "cell_type": "code",
   "execution_count": 29,
   "id": "3dbd8987",
   "metadata": {},
   "outputs": [],
   "source": [
    "# Concatenate train and validation data\n",
    "fulltrain = train_data.concatenate(validation_data)"
   ]
  },
  {
   "cell_type": "code",
   "execution_count": 30,
   "id": "b723de92",
   "metadata": {},
   "outputs": [
    {
     "name": "stdout",
     "output_type": "stream",
     "text": [
      "174/174 [==============================] - 26s 147ms/step - loss: 0.1094 - accuracy: 0.9890\n"
     ]
    }
   ],
   "source": [
    "# Fit the model on 80% data\n",
    "final_model = resnet25_model.fit(fulltrain)"
   ]
  },
  {
   "cell_type": "code",
   "execution_count": 31,
   "id": "5377df29",
   "metadata": {
    "scrolled": true
   },
   "outputs": [
    {
     "name": "stderr",
     "output_type": "stream",
     "text": [
      "WARNING:absl:Found untraced functions such as _jit_compiled_convolution_op, _jit_compiled_convolution_op, _jit_compiled_convolution_op, _jit_compiled_convolution_op, _jit_compiled_convolution_op while saving (showing 5 of 53). These functions will not be directly callable after loading.\n"
     ]
    },
    {
     "name": "stdout",
     "output_type": "stream",
     "text": [
      "INFO:tensorflow:Assets written to: ram://c59aa106-c312-4808-b630-ef664355ced3/assets\n"
     ]
    },
    {
     "name": "stderr",
     "output_type": "stream",
     "text": [
      "INFO:tensorflow:Assets written to: ram://c59aa106-c312-4808-b630-ef664355ced3/assets\n"
     ]
    }
   ],
   "source": [
    "filename = 'final_model.pkl'\n",
    "pkl.dump(resnet25_model, open(filename, 'wb'))"
   ]
  },
  {
   "cell_type": "code",
   "execution_count": 32,
   "id": "ba5fa3ba",
   "metadata": {},
   "outputs": [
    {
     "name": "stderr",
     "output_type": "stream",
     "text": [
      "WARNING:absl:Found untraced functions such as _jit_compiled_convolution_op, _jit_compiled_convolution_op, _jit_compiled_convolution_op, _jit_compiled_convolution_op, _jit_compiled_convolution_op while saving (showing 5 of 53). These functions will not be directly callable after loading.\n"
     ]
    },
    {
     "name": "stdout",
     "output_type": "stream",
     "text": [
      "INFO:tensorflow:Assets written to: fullmodel\\assets\n"
     ]
    },
    {
     "name": "stderr",
     "output_type": "stream",
     "text": [
      "INFO:tensorflow:Assets written to: fullmodel\\assets\n"
     ]
    }
   ],
   "source": [
    "# Save full model\n",
    "resnet_model.save('fullmodel')"
   ]
  },
  {
   "cell_type": "code",
   "execution_count": 33,
   "id": "03386976",
   "metadata": {},
   "outputs": [
    {
     "name": "stdout",
     "output_type": "stream",
     "text": [
      "Model: \"model_2\"\n",
      "_________________________________________________________________\n",
      " Layer (type)                Output Shape              Param #   \n",
      "=================================================================\n",
      " input_4 (InputLayer)        [(None, 299, 299, 3)]     0         \n",
      "                                                                 \n",
      " tf.__operators__.getitem (S  (None, 299, 299, 3)      0         \n",
      " licingOpLambda)                                                 \n",
      "                                                                 \n",
      " tf.nn.bias_add (TFOpLambda)  (None, 299, 299, 3)      0         \n",
      "                                                                 \n",
      " resnet50 (Functional)       (None, 10, 10, 2048)      23587712  \n",
      "                                                                 \n",
      " flatten_2 (Flatten)         (None, 204800)            0         \n",
      "                                                                 \n",
      " dense_3 (Dense)             (None, 256)               52429056  \n",
      "                                                                 \n",
      " dropout_1 (Dropout)         (None, 256)               0         \n",
      "                                                                 \n",
      " dense_4 (Dense)             (None, 1)                 257       \n",
      "                                                                 \n",
      "=================================================================\n",
      "Total params: 76,017,025\n",
      "Trainable params: 52,429,313\n",
      "Non-trainable params: 23,587,712\n",
      "_________________________________________________________________\n"
     ]
    }
   ],
   "source": [
    "# Load model\n",
    "new_model = tf.keras.models.load_model('fullmodel')\n",
    "new_model.summary()"
   ]
  },
  {
   "cell_type": "code",
   "execution_count": 34,
   "id": "13ce3881",
   "metadata": {},
   "outputs": [
    {
     "name": "stdout",
     "output_type": "stream",
     "text": [
      "44/44 - 7s - loss: 0.1733 - accuracy: 0.9772 - 7s/epoch - 160ms/step\n",
      "Restored model, accuracy: 97.72%\n"
     ]
    }
   ],
   "source": [
    "# Evaluate the restored model\n",
    "loss, acc = new_model.evaluate(test_data, verbose=2)\n",
    "print('Restored model, accuracy: {:5.2f}%'.format(100 * acc))"
   ]
  },
  {
   "cell_type": "code",
   "execution_count": null,
   "id": "93820d2f",
   "metadata": {},
   "outputs": [],
   "source": []
  }
 ],
 "metadata": {
  "kernelspec": {
   "display_name": "tf_gpu",
   "language": "python",
   "name": "tf_gpu"
  },
  "language_info": {
   "codemirror_mode": {
    "name": "ipython",
    "version": 3
   },
   "file_extension": ".py",
   "mimetype": "text/x-python",
   "name": "python",
   "nbconvert_exporter": "python",
   "pygments_lexer": "ipython3",
   "version": "3.9.15"
  }
 },
 "nbformat": 4,
 "nbformat_minor": 5
}
