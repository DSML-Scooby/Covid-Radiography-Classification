{
 "cells": [
  {
   "cell_type": "code",
   "execution_count": 1,
   "id": "1e640136",
   "metadata": {},
   "outputs": [
    {
     "data": {
      "text/plain": [
       "<AddedDllDirectory('C:/Program Files/NVIDIA GPU Computing Toolkit/CUDA/v11.2/bin')>"
      ]
     },
     "execution_count": 1,
     "metadata": {},
     "output_type": "execute_result"
    }
   ],
   "source": [
    "import os\n",
    "# Add directory for NVIDIA gpu. Ignore if not Windows\n",
    "os.add_dll_directory(\"C:/Program Files/NVIDIA GPU Computing Toolkit/CUDA/v11.2/bin\")"
   ]
  },
  {
   "cell_type": "code",
   "execution_count": 2,
   "id": "0318e036",
   "metadata": {},
   "outputs": [
    {
     "name": "stdout",
     "output_type": "stream",
     "text": [
      "[PhysicalDevice(name='/physical_device:GPU:0', device_type='GPU')]\n"
     ]
    }
   ],
   "source": [
    "import tensorflow as tf\n",
    "# print(tf.reduce_sum(tf.random.normal([1000, 1000])))\n",
    "# Confirm tensorflow running on gpu\n",
    "print(tf.config.list_physical_devices('GPU'))"
   ]
  },
  {
   "cell_type": "code",
   "execution_count": 3,
   "id": "78a06e8b",
   "metadata": {},
   "outputs": [],
   "source": [
    "from tensorflow import keras\n",
    "from tensorflow.keras.utils import image_dataset_from_directory\n",
    "from tensorflow.keras.layers.experimental.preprocessing import Resizing\n",
    "from sklearn.metrics import confusion_matrix, classification_report\n",
    "import matplotlib.pyplot as plt\n",
    "import seaborn as sns\n",
    "import numpy as np\n",
    "import pickle as pkl"
   ]
  },
  {
   "cell_type": "markdown",
   "id": "3992ac7f",
   "metadata": {},
   "source": [
    "### Base CovNet Model"
   ]
  },
  {
   "cell_type": "code",
   "execution_count": 39,
   "id": "10640390",
   "metadata": {},
   "outputs": [],
   "source": [
    "# function to build the conv net base\n",
    "\n",
    "\n",
    "# complete this function\n",
    "def build_base_convnet_model():\n",
    "    \"\"\"Re-create the model from the first prompt, but with a different input shape\"\"\"\n",
    "    \n",
    "    # Return this variable\n",
    "    model = None\n",
    "    \n",
    "    # YOUR CODE HERE\n",
    "    inputs = keras.Input(shape = (299, 299, 3))\n",
    "    x = keras.layers.Conv2D(filters = 32, kernel_size = 3, activation = 'relu')(inputs)\n",
    "    x = keras.layers.MaxPooling2D(pool_size = 2)(x)\n",
    "    x = keras.layers.Conv2D(filters = 64, kernel_size = 3, activation = 'relu')(x)\n",
    "    x = keras.layers.MaxPooling2D(pool_size = 2)(x)\n",
    "    x = keras.layers.Conv2D(filters = 128, kernel_size = 3, activation = 'relu')(x)\n",
    "    x = keras.layers.Flatten()(x)\n",
    "    outputs = keras.layers.Dense(1, activation = 'sigmoid')(x)\n",
    "\n",
    "    model = keras.Model(inputs, outputs)\n",
    "\n",
    "    model.compile(loss = 'binary_crossentropy', metrics = ['accuracy'])\n",
    "    \n",
    "    return model\n",
    "\n",
    "def load_image_data(base_path: str) -> tuple:\n",
    "    \"\"\"Write a function that accepts a base path that contains all of the directories, and creates training,\n",
    "    validation and test sets\"\"\"\n",
    "    \n",
    "    # Return these variables from the function\n",
    "    train_data = keras.utils.image_dataset_from_directory(f'{base_path}/train', \n",
    "                                                          image_size = (299, 299),\n",
    "                                                          batch_size = 64)\n",
    "\n",
    "    validation_data = keras.utils.image_dataset_from_directory(f'{base_path}/val', \n",
    "                                                          image_size = (299, 299),\n",
    "                                                          batch_size = 64)\n",
    "    \n",
    "    test_data = keras.utils.image_dataset_from_directory(f'{base_path}/test', \n",
    "                                                          image_size = (299, 299),\n",
    "                                                          batch_size = 64)\n",
    "    \n",
    "    # YOUR CODE HERE\n",
    "    \n",
    "    \n",
    "    return train_data, validation_data, test_data\n",
    "\n",
    "def fit_model(model, train_set, validation_set):\n",
    "    \"\"\"Fit a model with the above stated criteria\"\"\"\n",
    "    early_stopping = keras.callbacks.EarlyStopping(patience = 10)\n",
    "    \n",
    "    # YOUR CODE HERE\n",
    "    model.fit(train_set, \n",
    "              validation_data = validation_set, \n",
    "              callbacks = [early_stopping], \n",
    "              epochs = 500)\n",
    "    \n",
    "    return model"
   ]
  },
  {
   "cell_type": "code",
   "execution_count": 40,
   "id": "1dee887e",
   "metadata": {},
   "outputs": [
    {
     "name": "stdout",
     "output_type": "stream",
     "text": [
      "Found 8284 files belonging to 2 classes.\n",
      "Found 2761 files belonging to 2 classes.\n",
      "Found 2763 files belonging to 2 classes.\n"
     ]
    }
   ],
   "source": [
    "# run this cell to create your base convolution model and training, validation & test sets\n",
    "base_mod = build_base_convnet_model()\n",
    "train_data, validation_data, test_data = load_image_data('../data/COVID-19_Radiography_Dataset/TwoClasses/split')"
   ]
  },
  {
   "cell_type": "code",
   "execution_count": 41,
   "id": "1f09b370",
   "metadata": {
    "scrolled": true
   },
   "outputs": [
    {
     "name": "stdout",
     "output_type": "stream",
     "text": [
      "Epoch 1/500\n",
      "130/130 [==============================] - 20s 152ms/step - loss: 91.7088 - accuracy: 0.7443 - val_loss: 0.3974 - val_accuracy: 0.8464\n",
      "Epoch 2/500\n",
      "130/130 [==============================] - 20s 149ms/step - loss: 16.3133 - accuracy: 0.7869 - val_loss: 1.2468 - val_accuracy: 0.8059\n",
      "Epoch 3/500\n",
      "130/130 [==============================] - 19s 147ms/step - loss: 4.1481 - accuracy: 0.8455 - val_loss: 1.2126 - val_accuracy: 0.8707\n",
      "Epoch 4/500\n",
      "130/130 [==============================] - 19s 148ms/step - loss: 3.8081 - accuracy: 0.8741 - val_loss: 0.6180 - val_accuracy: 0.8917\n",
      "Epoch 5/500\n",
      "130/130 [==============================] - 19s 147ms/step - loss: 1.2082 - accuracy: 0.8984 - val_loss: 0.4014 - val_accuracy: 0.8997\n",
      "Epoch 6/500\n",
      "130/130 [==============================] - 19s 147ms/step - loss: 3.6094 - accuracy: 0.9056 - val_loss: 2.5457 - val_accuracy: 0.8787\n",
      "Epoch 7/500\n",
      "130/130 [==============================] - 20s 149ms/step - loss: 14.4908 - accuracy: 0.8903 - val_loss: 9.4728 - val_accuracy: 0.8798\n",
      "Epoch 8/500\n",
      "130/130 [==============================] - 19s 148ms/step - loss: 2.3969 - accuracy: 0.9278 - val_loss: 1.9155 - val_accuracy: 0.8953\n",
      "Epoch 9/500\n",
      "130/130 [==============================] - 19s 148ms/step - loss: 4.5203 - accuracy: 0.9223 - val_loss: 6.2462 - val_accuracy: 0.8280\n",
      "Epoch 10/500\n",
      "130/130 [==============================] - 19s 147ms/step - loss: 1.5243 - accuracy: 0.9380 - val_loss: 3.2797 - val_accuracy: 0.9098\n",
      "Epoch 11/500\n",
      "130/130 [==============================] - 19s 147ms/step - loss: 0.5374 - accuracy: 0.9587 - val_loss: 1.6047 - val_accuracy: 0.9142\n"
     ]
    }
   ],
   "source": [
    "fitted_model = fit_model(base_mod, train_data, validation_data)"
   ]
  },
  {
   "cell_type": "code",
   "execution_count": 42,
   "id": "2a9c9980",
   "metadata": {},
   "outputs": [
    {
     "name": "stdout",
     "output_type": "stream",
     "text": [
      "44/44 [==============================] - 3s 65ms/step\n"
     ]
    },
    {
     "data": {
      "text/plain": [
       "array([[ 197,  527],\n",
       "       [ 482, 1557]], dtype=int64)"
      ]
     },
     "execution_count": 42,
     "metadata": {},
     "output_type": "execute_result"
    }
   ],
   "source": [
    "# Create test labels from image_dataset\n",
    "test_labels = np.concatenate([y for x, y in test_data], axis=0)\n",
    "\n",
    "# Flatten function needed to flatten nested lists from predictions\n",
    "def flatten(l):\n",
    "    return [item for sublist in l for item in sublist]\n",
    "\n",
    "# Some predictions are not correctly labeled as 1,0\n",
    "predictions = np.where(fitted_model.predict(test_data) > 0.5, 1, 0)\n",
    "predictions\n",
    "\n",
    "y_preds = flatten(predictions)\n",
    "\n",
    "cm = confusion_matrix(test_labels, y_preds)\n",
    "cm"
   ]
  },
  {
   "cell_type": "code",
   "execution_count": 43,
   "id": "2f71fbfa",
   "metadata": {},
   "outputs": [
    {
     "name": "stdout",
     "output_type": "stream",
     "text": [
      "                  precision    recall  f1-score   support\n",
      "\n",
      " Covid (Class 0)       0.29      0.27      0.28       724\n",
      "Normal (Class 1)       0.75      0.76      0.76      2039\n",
      "\n",
      "        accuracy                           0.63      2763\n",
      "       macro avg       0.52      0.52      0.52      2763\n",
      "    weighted avg       0.63      0.63      0.63      2763\n",
      "\n"
     ]
    }
   ],
   "source": [
    "target_names = ['Covid (Class 0)', 'Normal (Class 1)']\n",
    "print(classification_report(test_labels, y_preds, target_names = target_names))"
   ]
  },
  {
   "cell_type": "markdown",
   "id": "234e5f16",
   "metadata": {},
   "source": [
    "### Inception V3 Model\n",
    "\n"
   ]
  },
  {
   "cell_type": "code",
   "execution_count": 44,
   "id": "2f3f9f68",
   "metadata": {},
   "outputs": [],
   "source": [
    "from keras.applications import InceptionV3"
   ]
  },
  {
   "cell_type": "code",
   "execution_count": 45,
   "id": "f2bc3005",
   "metadata": {},
   "outputs": [],
   "source": [
    "def build_transfer_learning_model():\n",
    "    \n",
    "    # return this variable\n",
    "    model = None\n",
    "\n",
    "    model_input = keras.Input(shape = (299, 299, 3))\n",
    "    \n",
    "    base_model = InceptionV3(input_shape = (299, 299, 3), weights='imagenet', include_top=False)\n",
    "\n",
    "    # make the weights in the base model non-trainable\n",
    "    for layer in base_model.layers:\n",
    "      layer.trainable = False\n",
    "\n",
    "    # combine the base model with a dense layer and output layer for the 10 classes\n",
    "    # the preprocess_input transforms input data according to how the model was trained\n",
    "    \n",
    "    x = keras.applications.inception_v3.preprocess_input(model_input)\n",
    "    x = base_model(x)\n",
    "    x = keras.layers.Flatten()(x)\n",
    "    x = keras.layers.Dense(256, activation = 'relu')(x)\n",
    "    x = keras.layers.Dropout(0.5)(x)\n",
    "    output = keras.layers.Dense(1, activation = 'sigmoid')(x)\n",
    "\n",
    "    model = keras.Model(model_input, output)\n",
    "\n",
    "    model.compile(loss = 'binary_crossentropy', metrics = ['accuracy'])\n",
    "    \n",
    "    return model"
   ]
  },
  {
   "cell_type": "code",
   "execution_count": 46,
   "id": "4f6e18b8",
   "metadata": {},
   "outputs": [],
   "source": [
    "transfer_learning_mod = build_transfer_learning_model()"
   ]
  },
  {
   "cell_type": "code",
   "execution_count": 47,
   "id": "a4c0ffde",
   "metadata": {},
   "outputs": [
    {
     "name": "stdout",
     "output_type": "stream",
     "text": [
      "Epoch 1/500\n",
      "130/130 [==============================] - 29s 202ms/step - loss: 6.5874 - accuracy: 0.8127 - val_loss: 0.2728 - val_accuracy: 0.8823\n",
      "Epoch 2/500\n",
      "130/130 [==============================] - 25s 194ms/step - loss: 0.4908 - accuracy: 0.8764 - val_loss: 0.1706 - val_accuracy: 0.9355\n",
      "Epoch 3/500\n",
      "130/130 [==============================] - 25s 195ms/step - loss: 0.3683 - accuracy: 0.9034 - val_loss: 0.1333 - val_accuracy: 0.9489\n",
      "Epoch 4/500\n",
      "130/130 [==============================] - 26s 196ms/step - loss: 0.3315 - accuracy: 0.9144 - val_loss: 0.1461 - val_accuracy: 0.9576\n",
      "Epoch 5/500\n",
      "130/130 [==============================] - 26s 195ms/step - loss: 0.2113 - accuracy: 0.9334 - val_loss: 0.1599 - val_accuracy: 0.9580\n",
      "Epoch 6/500\n",
      "130/130 [==============================] - 25s 194ms/step - loss: 0.2455 - accuracy: 0.9355 - val_loss: 0.1445 - val_accuracy: 0.9558\n",
      "Epoch 7/500\n",
      "130/130 [==============================] - 25s 195ms/step - loss: 0.1814 - accuracy: 0.9452 - val_loss: 0.2065 - val_accuracy: 0.9587\n",
      "Epoch 8/500\n",
      "130/130 [==============================] - 25s 195ms/step - loss: 0.1335 - accuracy: 0.9553 - val_loss: 0.1305 - val_accuracy: 0.9660\n",
      "Epoch 9/500\n",
      "130/130 [==============================] - 26s 195ms/step - loss: 0.1349 - accuracy: 0.9590 - val_loss: 0.2184 - val_accuracy: 0.9497\n",
      "Epoch 10/500\n",
      "130/130 [==============================] - 26s 195ms/step - loss: 0.1113 - accuracy: 0.9651 - val_loss: 0.2141 - val_accuracy: 0.9504\n",
      "Epoch 11/500\n",
      "130/130 [==============================] - 25s 194ms/step - loss: 0.0937 - accuracy: 0.9711 - val_loss: 0.1603 - val_accuracy: 0.9678\n",
      "Epoch 12/500\n",
      "130/130 [==============================] - 26s 195ms/step - loss: 0.0887 - accuracy: 0.9710 - val_loss: 0.1716 - val_accuracy: 0.9681\n",
      "Epoch 13/500\n",
      "130/130 [==============================] - 25s 194ms/step - loss: 0.1512 - accuracy: 0.9691 - val_loss: 0.2047 - val_accuracy: 0.9667\n",
      "Epoch 14/500\n",
      "130/130 [==============================] - 26s 195ms/step - loss: 0.0744 - accuracy: 0.9754 - val_loss: 0.1723 - val_accuracy: 0.9681\n",
      "Epoch 15/500\n",
      "130/130 [==============================] - 25s 195ms/step - loss: 0.0802 - accuracy: 0.9757 - val_loss: 0.1624 - val_accuracy: 0.9714\n",
      "Epoch 16/500\n",
      "130/130 [==============================] - 25s 195ms/step - loss: 0.0696 - accuracy: 0.9749 - val_loss: 0.3536 - val_accuracy: 0.9348\n",
      "Epoch 17/500\n",
      "130/130 [==============================] - 25s 195ms/step - loss: 0.0600 - accuracy: 0.9792 - val_loss: 0.2401 - val_accuracy: 0.9547\n",
      "Epoch 18/500\n",
      "130/130 [==============================] - 26s 195ms/step - loss: 0.0620 - accuracy: 0.9800 - val_loss: 0.1839 - val_accuracy: 0.9732\n"
     ]
    }
   ],
   "source": [
    "inception_model = fit_model(transfer_learning_mod, train_data, validation_data)"
   ]
  },
  {
   "cell_type": "code",
   "execution_count": 48,
   "id": "553fcf44",
   "metadata": {},
   "outputs": [
    {
     "name": "stdout",
     "output_type": "stream",
     "text": [
      "44/44 [==============================] - 6s 138ms/step - loss: 0.1314 - accuracy: 0.9765\n"
     ]
    }
   ],
   "source": [
    "inc_results = inception_model.evaluate(test_data)"
   ]
  },
  {
   "cell_type": "code",
   "execution_count": 49,
   "id": "d2843cac",
   "metadata": {},
   "outputs": [
    {
     "name": "stdout",
     "output_type": "stream",
     "text": [
      "44/44 [==============================] - 3s 63ms/step\n"
     ]
    },
    {
     "data": {
      "text/plain": [
       "<AxesSubplot: >"
      ]
     },
     "execution_count": 49,
     "metadata": {},
     "output_type": "execute_result"
    },
    {
     "data": {
      "image/png": "[encoded data removed]",
      "text/plain": [
       "<Figure size 432x288 with 2 Axes>"
      ]
     },
     "metadata": {
      "needs_background": "light"
     },
     "output_type": "display_data"
    }
   ],
   "source": [
    "# Create test labels from image_dataset\n",
    "test_labels = np.concatenate([y for x, y in test_data], axis=0)\n",
    "\n",
    "# Flatten function needed to flatten nested lists from predictions\n",
    "def flatten(l):\n",
    "    return [item for sublist in l for item in sublist]\n",
    "\n",
    "# Some predictions are not correctly labeled as 1,0\n",
    "predictions = np.where(fitted_model.predict(test_data) > 0.5, 1, 0)\n",
    "predictions\n",
    "\n",
    "y_preds = flatten(predictions)\n",
    "\n",
    "cm = confusion_matrix(test_labels, y_preds)\n",
    "sns.heatmap(cm, annot = True, cmap='Blues', fmt='.4g')"
   ]
  },
  {
   "cell_type": "code",
   "execution_count": 50,
   "id": "7a47e89c",
   "metadata": {},
   "outputs": [
    {
     "name": "stdout",
     "output_type": "stream",
     "text": [
      "                  precision    recall  f1-score   support\n",
      "\n",
      " Covid (Class 0)       0.25      0.23      0.24       724\n",
      "Normal (Class 1)       0.73      0.75      0.74      2039\n",
      "\n",
      "        accuracy                           0.62      2763\n",
      "       macro avg       0.49      0.49      0.49      2763\n",
      "    weighted avg       0.61      0.62      0.61      2763\n",
      "\n"
     ]
    }
   ],
   "source": [
    "target_names = ['Covid (Class 0)', 'Normal (Class 1)']\n",
    "print(classification_report(test_labels, y_preds, target_names = target_names))"
   ]
  },
  {
   "cell_type": "markdown",
   "id": "2be5ae8e",
   "metadata": {},
   "source": [
    "### ResNet Model"
   ]
  },
  {
   "cell_type": "code",
   "execution_count": 51,
   "id": "e9c1e237",
   "metadata": {},
   "outputs": [],
   "source": [
    "from keras.applications import ResNet50"
   ]
  },
  {
   "cell_type": "code",
   "execution_count": 52,
   "id": "6cd2d194",
   "metadata": {},
   "outputs": [],
   "source": [
    "def build_transfer_learning_model():\n",
    "    \n",
    "    # return this variable\n",
    "    model = None\n",
    "\n",
    "    model_input = keras.Input(shape = (299, 299, 3))\n",
    "    \n",
    "    base_model = ResNet50(input_shape = (299, 299, 3), weights='imagenet', include_top=False)\n",
    "\n",
    "    # make the weights in the base model non-trainable\n",
    "    for layer in base_model.layers:\n",
    "      layer.trainable = False\n",
    "\n",
    "    # combine the base model with a dense layer and output layer for the 10 classes\n",
    "    # the preprocess_input transforms input data according to how the model was trained\n",
    "    \n",
    "    x = keras.applications.resnet50.preprocess_input(model_input)\n",
    "    x = base_model(x)\n",
    "    x = keras.layers.Flatten()(x)\n",
    "    x = keras.layers.Dense(256, activation = 'relu')(x)\n",
    "    x = keras.layers.Dropout(0.5)(x)\n",
    "    output = keras.layers.Dense(1, activation = 'sigmoid')(x)\n",
    "\n",
    "    model = keras.Model(model_input, output)\n",
    "\n",
    "    model.compile(loss = 'binary_crossentropy', metrics = ['accuracy'])\n",
    "    \n",
    "    return model"
   ]
  },
  {
   "cell_type": "code",
   "execution_count": 53,
   "id": "0db51ddd",
   "metadata": {},
   "outputs": [],
   "source": [
    "transfer_learning_mod = build_transfer_learning_model()"
   ]
  },
  {
   "cell_type": "code",
   "execution_count": 54,
   "id": "be995ac2",
   "metadata": {
    "scrolled": true
   },
   "outputs": [
    {
     "name": "stdout",
     "output_type": "stream",
     "text": [
      "Epoch 1/500\n",
      "130/130 [==============================] - 29s 205ms/step - loss: 8.1399 - accuracy: 0.8691 - val_loss: 0.1339 - val_accuracy: 0.9674\n",
      "Epoch 2/500\n",
      "130/130 [==============================] - 26s 196ms/step - loss: 0.5009 - accuracy: 0.9363 - val_loss: 0.1119 - val_accuracy: 0.9725\n",
      "Epoch 3/500\n",
      "130/130 [==============================] - 26s 196ms/step - loss: 0.2827 - accuracy: 0.9575 - val_loss: 0.0957 - val_accuracy: 0.9757\n",
      "Epoch 4/500\n",
      "130/130 [==============================] - 26s 196ms/step - loss: 0.1444 - accuracy: 0.9693 - val_loss: 0.0959 - val_accuracy: 0.9768\n",
      "Epoch 5/500\n",
      "130/130 [==============================] - 26s 196ms/step - loss: 0.1688 - accuracy: 0.9726 - val_loss: 0.1429 - val_accuracy: 0.9783\n",
      "Epoch 6/500\n",
      "130/130 [==============================] - 26s 196ms/step - loss: 0.1540 - accuracy: 0.9763 - val_loss: 0.1662 - val_accuracy: 0.9790\n",
      "Epoch 7/500\n",
      "130/130 [==============================] - 26s 195ms/step - loss: 0.0843 - accuracy: 0.9837 - val_loss: 0.1388 - val_accuracy: 0.9804\n",
      "Epoch 8/500\n",
      "130/130 [==============================] - 26s 196ms/step - loss: 0.0645 - accuracy: 0.9855 - val_loss: 0.1370 - val_accuracy: 0.9819\n",
      "Epoch 9/500\n",
      "130/130 [==============================] - 26s 196ms/step - loss: 0.0621 - accuracy: 0.9871 - val_loss: 0.2431 - val_accuracy: 0.9696\n",
      "Epoch 10/500\n",
      "130/130 [==============================] - 26s 196ms/step - loss: 0.0590 - accuracy: 0.9884 - val_loss: 0.1970 - val_accuracy: 0.9804\n",
      "Epoch 11/500\n",
      "130/130 [==============================] - 26s 196ms/step - loss: 0.0472 - accuracy: 0.9902 - val_loss: 0.1574 - val_accuracy: 0.9830\n",
      "Epoch 12/500\n",
      "130/130 [==============================] - 26s 196ms/step - loss: 0.0353 - accuracy: 0.9920 - val_loss: 0.1874 - val_accuracy: 0.9837\n",
      "Epoch 13/500\n",
      "130/130 [==============================] - 26s 197ms/step - loss: 0.0346 - accuracy: 0.9934 - val_loss: 0.2087 - val_accuracy: 0.9844\n"
     ]
    }
   ],
   "source": [
    "resnet_model = fit_model(transfer_learning_mod, train_data, validation_data)"
   ]
  },
  {
   "cell_type": "code",
   "execution_count": 55,
   "id": "d10a6a37",
   "metadata": {},
   "outputs": [
    {
     "name": "stdout",
     "output_type": "stream",
     "text": [
      "44/44 [==============================] - 6s 138ms/step - loss: 0.1247 - accuracy: 0.9877\n"
     ]
    }
   ],
   "source": [
    "results = resnet_model.evaluate(test_data)"
   ]
  },
  {
   "cell_type": "code",
   "execution_count": 56,
   "id": "eafa862c",
   "metadata": {},
   "outputs": [
    {
     "name": "stdout",
     "output_type": "stream",
     "text": [
      "44/44 [==============================] - 7s 137ms/step\n"
     ]
    },
    {
     "data": {
      "text/plain": [
       "<AxesSubplot: >"
      ]
     },
     "execution_count": 56,
     "metadata": {},
     "output_type": "execute_result"
    },
    {
     "data": {
      "image/png": "[encoded data removed]",
      "text/plain": [
       "<Figure size 432x288 with 2 Axes>"
      ]
     },
     "metadata": {
      "needs_background": "light"
     },
     "output_type": "display_data"
    }
   ],
   "source": [
    "# Some predictions are continuous and thus not labeled as 1,0\n",
    "predictions = np.where(resnet_model.predict(test_data) > 0.5, 1, 0)\n",
    "predictions\n",
    "\n",
    "y_preds = flatten(predictions)\n",
    "\n",
    "cm = confusion_matrix(test_labels, y_preds)\n",
    "sns.heatmap(cm, annot = True, cmap='Blues', fmt='.4g')"
   ]
  },
  {
   "cell_type": "code",
   "execution_count": 57,
   "id": "81d72d37",
   "metadata": {
    "scrolled": true
   },
   "outputs": [
    {
     "name": "stdout",
     "output_type": "stream",
     "text": [
      "                  precision    recall  f1-score   support\n",
      "\n",
      " Covid (Class 0)       0.28      0.27      0.28       724\n",
      "Normal (Class 1)       0.74      0.75      0.74      2039\n",
      "\n",
      "        accuracy                           0.62      2763\n",
      "       macro avg       0.51      0.51      0.51      2763\n",
      "    weighted avg       0.62      0.62      0.62      2763\n",
      "\n"
     ]
    }
   ],
   "source": [
    "target_names = ['Covid (Class 0)', 'Normal (Class 1)']\n",
    "print(classification_report(test_labels, y_preds, target_names = target_names))"
   ]
  },
  {
   "cell_type": "markdown",
   "id": "db0cc111",
   "metadata": {},
   "source": [
    "### ResNet with Dropout 0.25"
   ]
  },
  {
   "cell_type": "code",
   "execution_count": 58,
   "id": "449664fe",
   "metadata": {},
   "outputs": [],
   "source": [
    "def build_transfer_learning_model():\n",
    "    \n",
    "    # return this variable\n",
    "    model = None\n",
    "\n",
    "    model_input = keras.Input(shape = (299, 299, 3))\n",
    "    \n",
    "    base_model = ResNet50(input_shape = (299, 299, 3), weights='imagenet', include_top=False)\n",
    "\n",
    "    # make the weights in the base model non-trainable\n",
    "    for layer in base_model.layers:\n",
    "      layer.trainable = False\n",
    "\n",
    "    # combine the base model with a dense layer and output layer for the 10 classes\n",
    "    # the preprocess_input transforms input data according to how the model was trained\n",
    "    \n",
    "    x = keras.applications.resnet50.preprocess_input(model_input)\n",
    "    x = base_model(x)\n",
    "    x = keras.layers.Flatten()(x)\n",
    "    x = keras.layers.Dense(256, activation = 'relu')(x)\n",
    "    x = keras.layers.Dropout(0.25)(x)\n",
    "    output = keras.layers.Dense(1, activation = 'sigmoid')(x)\n",
    "\n",
    "    model = keras.Model(model_input, output)\n",
    "\n",
    "    model.compile(loss = 'binary_crossentropy', metrics = ['accuracy'])\n",
    "    \n",
    "    return model"
   ]
  },
  {
   "cell_type": "code",
   "execution_count": 59,
   "id": "e92d1a81",
   "metadata": {},
   "outputs": [],
   "source": [
    "transfer_learning_mod = build_transfer_learning_model()"
   ]
  },
  {
   "cell_type": "code",
   "execution_count": 60,
   "id": "efa5400e",
   "metadata": {
    "scrolled": true
   },
   "outputs": [
    {
     "name": "stdout",
     "output_type": "stream",
     "text": [
      "Epoch 1/500\n",
      "130/130 [==============================] - 29s 202ms/step - loss: 7.9058 - accuracy: 0.8892 - val_loss: 0.1123 - val_accuracy: 0.9638\n",
      "Epoch 2/500\n",
      "130/130 [==============================] - 26s 202ms/step - loss: 0.5234 - accuracy: 0.9415 - val_loss: 0.0983 - val_accuracy: 0.9725\n",
      "Epoch 3/500\n",
      "130/130 [==============================] - 27s 204ms/step - loss: 0.1808 - accuracy: 0.9685 - val_loss: 0.1128 - val_accuracy: 0.9761\n",
      "Epoch 4/500\n",
      "130/130 [==============================] - 26s 199ms/step - loss: 0.1529 - accuracy: 0.9746 - val_loss: 0.1087 - val_accuracy: 0.9804\n",
      "Epoch 5/500\n",
      "130/130 [==============================] - 26s 201ms/step - loss: 0.0593 - accuracy: 0.9859 - val_loss: 0.0987 - val_accuracy: 0.9779\n",
      "Epoch 6/500\n",
      "130/130 [==============================] - 27s 204ms/step - loss: 0.0421 - accuracy: 0.9891 - val_loss: 0.2067 - val_accuracy: 0.9696\n",
      "Epoch 7/500\n",
      "130/130 [==============================] - 27s 204ms/step - loss: 0.0775 - accuracy: 0.9877 - val_loss: 0.5165 - val_accuracy: 0.9258\n",
      "Epoch 8/500\n",
      "130/130 [==============================] - 26s 199ms/step - loss: 0.0544 - accuracy: 0.9917 - val_loss: 0.1221 - val_accuracy: 0.9866\n",
      "Epoch 9/500\n",
      "130/130 [==============================] - 26s 199ms/step - loss: 0.0211 - accuracy: 0.9941 - val_loss: 0.2131 - val_accuracy: 0.9804\n",
      "Epoch 10/500\n",
      "130/130 [==============================] - 26s 198ms/step - loss: 0.0368 - accuracy: 0.9929 - val_loss: 0.2775 - val_accuracy: 0.9812\n",
      "Epoch 11/500\n",
      "130/130 [==============================] - 25s 192ms/step - loss: 0.0248 - accuracy: 0.9951 - val_loss: 0.2017 - val_accuracy: 0.9823\n",
      "Epoch 12/500\n",
      "130/130 [==============================] - 25s 189ms/step - loss: 0.0181 - accuracy: 0.9965 - val_loss: 0.2307 - val_accuracy: 0.9797\n",
      "Finished\n"
     ]
    }
   ],
   "source": [
    "resnet25_model = fit_model(transfer_learning_mod, train_data, validation_data)\n",
    "print(\"Finished\")"
   ]
  },
  {
   "cell_type": "code",
   "execution_count": 61,
   "id": "e36856f8",
   "metadata": {},
   "outputs": [
    {
     "name": "stdout",
     "output_type": "stream",
     "text": [
      "44/44 [==============================] - 6s 131ms/step - loss: 0.1446 - accuracy: 0.9837\n"
     ]
    }
   ],
   "source": [
    "results = resnet25_model.evaluate(test_data)"
   ]
  },
  {
   "cell_type": "code",
   "execution_count": 62,
   "id": "22b798d5",
   "metadata": {},
   "outputs": [
    {
     "name": "stdout",
     "output_type": "stream",
     "text": [
      "44/44 [==============================] - 6s 133ms/step\n"
     ]
    },
    {
     "data": {
      "text/plain": [
       "<AxesSubplot: >"
      ]
     },
     "execution_count": 62,
     "metadata": {},
     "output_type": "execute_result"
    },
    {
     "data": {
      "image/png": "[encoded data removed]",
      "text/plain": [
       "<Figure size 432x288 with 2 Axes>"
      ]
     },
     "metadata": {
      "needs_background": "light"
     },
     "output_type": "display_data"
    }
   ],
   "source": [
    "# Some predictions are continuous and thus not labeled as 1,0\n",
    "predictions = np.where(resnet_model.predict(test_data) > 0.5, 1, 0)\n",
    "predictions\n",
    "\n",
    "y_preds = flatten(predictions)\n",
    "\n",
    "cm = confusion_matrix(test_labels, y_preds)\n",
    "sns.heatmap(cm, annot = True, cmap='Blues', fmt='.4g')"
   ]
  },
  {
   "cell_type": "code",
   "execution_count": 63,
   "id": "e30acc97",
   "metadata": {
    "scrolled": false
   },
   "outputs": [
    {
     "name": "stdout",
     "output_type": "stream",
     "text": [
      "                  precision    recall  f1-score   support\n",
      "\n",
      " Covid (Class 0)       0.28      0.28      0.28       724\n",
      "Normal (Class 1)       0.74      0.75      0.75      2039\n",
      "\n",
      "        accuracy                           0.62      2763\n",
      "       macro avg       0.51      0.51      0.51      2763\n",
      "    weighted avg       0.62      0.62      0.62      2763\n",
      "\n"
     ]
    }
   ],
   "source": [
    "target_names = ['Covid (Class 0)', 'Normal (Class 1)']\n",
    "print(classification_report(test_labels, y_preds, target_names = target_names))"
   ]
  },
  {
   "cell_type": "markdown",
   "id": "355c9198",
   "metadata": {},
   "source": [
    "### Final Model"
   ]
  },
  {
   "cell_type": "code",
   "execution_count": 29,
   "id": "3dbd8987",
   "metadata": {},
   "outputs": [],
   "source": [
    "# Concatenate train and validation data\n",
    "fulltrain = train_data.concatenate(validation_data)"
   ]
  },
  {
   "cell_type": "code",
   "execution_count": 30,
   "id": "b723de92",
   "metadata": {},
   "outputs": [
    {
     "name": "stdout",
     "output_type": "stream",
     "text": [
      "174/174 [==============================] - 30s 172ms/step - loss: 0.1167 - accuracy: 0.9802\n"
     ]
    }
   ],
   "source": [
    "# Fit the model on 80% data\n",
    "final_model = resnet_model.fit(fulltrain)"
   ]
  },
  {
   "cell_type": "code",
   "execution_count": 31,
   "id": "5377df29",
   "metadata": {
    "scrolled": true
   },
   "outputs": [
    {
     "name": "stderr",
     "output_type": "stream",
     "text": [
      "WARNING:absl:Found untraced functions such as _jit_compiled_convolution_op, _jit_compiled_convolution_op, _jit_compiled_convolution_op, _jit_compiled_convolution_op, _jit_compiled_convolution_op while saving (showing 5 of 53). These functions will not be directly callable after loading.\n"
     ]
    },
    {
     "name": "stdout",
     "output_type": "stream",
     "text": [
      "INFO:tensorflow:Assets written to: ram://09ebd1af-97e8-4455-b680-1b8136079e68/assets\n"
     ]
    },
    {
     "name": "stderr",
     "output_type": "stream",
     "text": [
      "INFO:tensorflow:Assets written to: ram://09ebd1af-97e8-4455-b680-1b8136079e68/assets\n"
     ]
    }
   ],
   "source": [
    "filename = 'final_model.pkl'\n",
    "pkl.dump(resnet_model, open(filename, 'wb'))"
   ]
  },
  {
   "cell_type": "code",
   "execution_count": 32,
   "id": "ba5fa3ba",
   "metadata": {},
   "outputs": [
    {
     "name": "stderr",
     "output_type": "stream",
     "text": [
      "WARNING:absl:Found untraced functions such as _jit_compiled_convolution_op, _jit_compiled_convolution_op, _jit_compiled_convolution_op, _jit_compiled_convolution_op, _jit_compiled_convolution_op while saving (showing 5 of 53). These functions will not be directly callable after loading.\n"
     ]
    },
    {
     "name": "stdout",
     "output_type": "stream",
     "text": [
      "INFO:tensorflow:Assets written to: fullmodel\\assets\n"
     ]
    },
    {
     "name": "stderr",
     "output_type": "stream",
     "text": [
      "INFO:tensorflow:Assets written to: fullmodel\\assets\n"
     ]
    }
   ],
   "source": [
    "# Save full model\n",
    "resnet_model.save('fullmodel')"
   ]
  },
  {
   "cell_type": "code",
   "execution_count": 33,
   "id": "03386976",
   "metadata": {},
   "outputs": [
    {
     "name": "stdout",
     "output_type": "stream",
     "text": [
      "Model: \"model_2\"\n",
      "_________________________________________________________________\n",
      " Layer (type)                Output Shape              Param #   \n",
      "=================================================================\n",
      " input_4 (InputLayer)        [(None, 299, 299, 3)]     0         \n",
      "                                                                 \n",
      " tf.__operators__.getitem (S  (None, 299, 299, 3)      0         \n",
      " licingOpLambda)                                                 \n",
      "                                                                 \n",
      " tf.nn.bias_add (TFOpLambda)  (None, 299, 299, 3)      0         \n",
      "                                                                 \n",
      " resnet50 (Functional)       (None, 10, 10, 2048)      23587712  \n",
      "                                                                 \n",
      " flatten_2 (Flatten)         (None, 204800)            0         \n",
      "                                                                 \n",
      " dense_3 (Dense)             (None, 256)               52429056  \n",
      "                                                                 \n",
      " dropout_1 (Dropout)         (None, 256)               0         \n",
      "                                                                 \n",
      " dense_4 (Dense)             (None, 1)                 257       \n",
      "                                                                 \n",
      "=================================================================\n",
      "Total params: 76,017,025\n",
      "Trainable params: 52,429,313\n",
      "Non-trainable params: 23,587,712\n",
      "_________________________________________________________________\n"
     ]
    }
   ],
   "source": [
    "# Load model\n",
    "new_model = tf.keras.models.load_model('fullmodel')\n",
    "new_model.summary()"
   ]
  },
  {
   "cell_type": "code",
   "execution_count": 64,
   "id": "13ce3881",
   "metadata": {},
   "outputs": [
    {
     "name": "stdout",
     "output_type": "stream",
     "text": [
      "44/44 - 7s - loss: 0.0898 - accuracy: 0.9841 - 7s/epoch - 153ms/step\n",
      "Restored model, accuracy: 98.41%\n"
     ]
    }
   ],
   "source": [
    "# Evaluate the restored model\n",
    "loss, acc = new_model.evaluate(test_data, verbose=2)\n",
    "print('Restored model, accuracy: {:5.2f}%'.format(100 * acc))"
   ]
  },
  {
   "cell_type": "code",
   "execution_count": null,
   "id": "93820d2f",
   "metadata": {},
   "outputs": [],
   "source": []
  }
 ],
 "metadata": {
  "kernelspec": {
   "display_name": "tf_gpu",
   "language": "python",
   "name": "tf_gpu"
  },
  "language_info": {
   "codemirror_mode": {
    "name": "ipython",
    "version": 3
   },
   "file_extension": ".py",
   "mimetype": "text/x-python",
   "name": "python",
   "nbconvert_exporter": "python",
   "pygments_lexer": "ipython3",
   "version": "3.9.15"
  }
 },
 "nbformat": 4,
 "nbformat_minor": 5
}
