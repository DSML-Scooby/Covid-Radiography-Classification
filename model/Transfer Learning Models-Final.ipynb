{
 "cells": [
  {
   "cell_type": "code",
   "execution_count": 1,
   "id": "1e640136",
   "metadata": {},
   "outputs": [
    {
     "data": {
      "text/plain": [
       "<AddedDllDirectory('C:/Program Files/NVIDIA GPU Computing Toolkit/CUDA/v11.2/bin')>"
      ]
     },
     "execution_count": 1,
     "metadata": {},
     "output_type": "execute_result"
    }
   ],
   "source": [
    "import os\n",
    "# Add directory for NVIDIA gpu. Ignore if not Windows\n",
    "os.add_dll_directory(\"C:/Program Files/NVIDIA GPU Computing Toolkit/CUDA/v11.2/bin\")"
   ]
  },
  {
   "cell_type": "code",
   "execution_count": 2,
   "id": "0318e036",
   "metadata": {},
   "outputs": [
    {
     "name": "stdout",
     "output_type": "stream",
     "text": [
      "[PhysicalDevice(name='/physical_device:GPU:0', device_type='GPU')]\n"
     ]
    }
   ],
   "source": [
    "import tensorflow as tf\n",
    "# print(tf.reduce_sum(tf.random.normal([1000, 1000])))\n",
    "# Confirm tensorflow running on gpu\n",
    "print(tf.config.list_physical_devices('GPU'))"
   ]
  },
  {
   "cell_type": "code",
   "execution_count": 3,
   "id": "78a06e8b",
   "metadata": {},
   "outputs": [],
   "source": [
    "from tensorflow import keras\n",
    "from tensorflow.keras.utils import image_dataset_from_directory\n",
    "from tensorflow.keras.layers.experimental.preprocessing import Resizing\n",
    "from sklearn.metrics import confusion_matrix, classification_report\n",
    "import matplotlib.pyplot as plt\n",
    "import seaborn as sns\n",
    "import pandas as pd\n",
    "import numpy as np\n",
    "import pickle as pkl"
   ]
  },
  {
   "cell_type": "markdown",
   "id": "3992ac7f",
   "metadata": {},
   "source": [
    "### Base CovNet Model"
   ]
  },
  {
   "cell_type": "code",
   "execution_count": 4,
   "id": "10640390",
   "metadata": {},
   "outputs": [],
   "source": [
    "# function to build the conv net base\n",
    "\n",
    "\n",
    "# complete this function\n",
    "def build_base_convnet_model():\n",
    "    \"\"\"Re-create the model from the first prompt, but with a different input shape\"\"\"\n",
    "    \n",
    "    # Return this variable\n",
    "    model = None\n",
    "    \n",
    "    # YOUR CODE HERE\n",
    "    inputs = keras.Input(shape = (299, 299, 3))\n",
    "    x = keras.layers.Conv2D(filters = 32, kernel_size = 3, activation = 'relu')(inputs)\n",
    "    x = keras.layers.MaxPooling2D(pool_size = 2)(x)\n",
    "    x = keras.layers.Conv2D(filters = 64, kernel_size = 3, activation = 'relu')(x)\n",
    "    x = keras.layers.MaxPooling2D(pool_size = 2)(x)\n",
    "    x = keras.layers.Conv2D(filters = 128, kernel_size = 3, activation = 'relu')(x)\n",
    "    x = keras.layers.Flatten()(x)\n",
    "    outputs = keras.layers.Dense(1, activation = 'sigmoid')(x)\n",
    "\n",
    "    model = keras.Model(inputs, outputs)\n",
    "\n",
    "    model.compile(loss = 'binary_crossentropy', metrics = ['accuracy'])\n",
    "    \n",
    "    return model\n",
    "\n",
    "def load_image_data(base_path: str) -> tuple:\n",
    "    \"\"\"Write a function that accepts a base path that contains all of the directories, and creates training,\n",
    "    validation and test sets\"\"\"\n",
    "    \n",
    "    # Return these variables from the function\n",
    "    train_data = keras.utils.image_dataset_from_directory(f'{base_path}/train', \n",
    "                                                          image_size = (299, 299),\n",
    "                                                          batch_size = 64)\n",
    "\n",
    "    validation_data = keras.utils.image_dataset_from_directory(f'{base_path}/val', \n",
    "                                                          image_size = (299, 299),\n",
    "                                                          batch_size = 64)\n",
    "    \n",
    "    test_data = keras.utils.image_dataset_from_directory(f'{base_path}/test', \n",
    "                                                          image_size = (299, 299),\n",
    "                                                          batch_size = 64)\n",
    "    \n",
    "    # YOUR CODE HERE\n",
    "    \n",
    "    \n",
    "    return train_data, validation_data, test_data\n",
    "\n",
    "def fit_model(model, train_set, validation_set):\n",
    "    \"\"\"Fit a model with the above stated criteria\"\"\"\n",
    "    early_stopping = keras.callbacks.EarlyStopping(patience = 10)\n",
    "    \n",
    "    # YOUR CODE HERE\n",
    "    model.fit(train_set, \n",
    "              validation_data = validation_set, \n",
    "              callbacks = [early_stopping], \n",
    "              epochs = 500)\n",
    "    \n",
    "    return model"
   ]
  },
  {
   "cell_type": "code",
   "execution_count": 5,
   "id": "1dee887e",
   "metadata": {},
   "outputs": [
    {
     "name": "stdout",
     "output_type": "stream",
     "text": [
      "Found 8284 files belonging to 2 classes.\n",
      "Found 2761 files belonging to 2 classes.\n",
      "Found 2763 files belonging to 2 classes.\n"
     ]
    }
   ],
   "source": [
    "# run this cell to create your base convolution model and training, validation & test sets\n",
    "base_mod = build_base_convnet_model()\n",
    "train_data, validation_data, test_data = load_image_data('../data/COVID-19_Radiography_Dataset/TwoClasses/split')"
   ]
  },
  {
   "cell_type": "code",
   "execution_count": 6,
   "id": "1f09b370",
   "metadata": {
    "scrolled": true
   },
   "outputs": [
    {
     "name": "stdout",
     "output_type": "stream",
     "text": [
      "Epoch 1/500\n",
      "130/130 [==============================] - 23s 146ms/step - loss: 146.8868 - accuracy: 0.7542 - val_loss: 0.3974 - val_accuracy: 0.8406\n",
      "Epoch 2/500\n",
      "130/130 [==============================] - 18s 135ms/step - loss: 46.4233 - accuracy: 0.7973 - val_loss: 0.5633 - val_accuracy: 0.8461\n",
      "Epoch 3/500\n",
      "130/130 [==============================] - 19s 143ms/step - loss: 13.6837 - accuracy: 0.8273 - val_loss: 3.1172 - val_accuracy: 0.7088\n",
      "Epoch 4/500\n",
      "130/130 [==============================] - 18s 139ms/step - loss: 6.4148 - accuracy: 0.8351 - val_loss: 0.9523 - val_accuracy: 0.8609\n",
      "Epoch 5/500\n",
      "130/130 [==============================] - 19s 144ms/step - loss: 2.0144 - accuracy: 0.8815 - val_loss: 0.4013 - val_accuracy: 0.8859\n",
      "Epoch 6/500\n",
      "130/130 [==============================] - 19s 146ms/step - loss: 9.2698 - accuracy: 0.8681 - val_loss: 1.1643 - val_accuracy: 0.8913\n",
      "Epoch 7/500\n",
      "130/130 [==============================] - 42s 323ms/step - loss: 21.3139 - accuracy: 0.9049 - val_loss: 0.7653 - val_accuracy: 0.9000\n",
      "Epoch 8/500\n",
      "130/130 [==============================] - 30s 227ms/step - loss: 3.7575 - accuracy: 0.9067 - val_loss: 1.0403 - val_accuracy: 0.8859\n",
      "Epoch 9/500\n",
      "130/130 [==============================] - 22s 166ms/step - loss: 5.2163 - accuracy: 0.9198 - val_loss: 3.7515 - val_accuracy: 0.8906\n",
      "Epoch 10/500\n",
      "130/130 [==============================] - 23s 177ms/step - loss: 4.2461 - accuracy: 0.9259 - val_loss: 15.8930 - val_accuracy: 0.8156\n",
      "Epoch 11/500\n",
      "130/130 [==============================] - 28s 214ms/step - loss: 1.2032 - accuracy: 0.9445 - val_loss: 2.0650 - val_accuracy: 0.8881\n"
     ]
    }
   ],
   "source": [
    "fitted_model = fit_model(base_mod, train_data, validation_data)"
   ]
  },
  {
   "cell_type": "code",
   "execution_count": 7,
   "id": "2a9c9980",
   "metadata": {},
   "outputs": [
    {
     "name": "stdout",
     "output_type": "stream",
     "text": [
      "44/44 [==============================] - 4s 92ms/step\n"
     ]
    },
    {
     "data": {
      "text/plain": [
       "array([[ 185,  539],\n",
       "       [ 460, 1579]], dtype=int64)"
      ]
     },
     "execution_count": 7,
     "metadata": {},
     "output_type": "execute_result"
    }
   ],
   "source": [
    "# Create test labels from image_dataset\n",
    "test_labels = np.concatenate([y for x, y in test_data], axis=0)\n",
    "\n",
    "# Flatten function needed to flatten nested lists from predictions\n",
    "def flatten(l):\n",
    "    return [item for sublist in l for item in sublist]\n",
    "\n",
    "# Some predictions are not correctly labeled as 1,0\n",
    "predictions = np.where(fitted_model.predict(test_data) > 0.5, 1, 0)\n",
    "predictions\n",
    "\n",
    "y_preds = flatten(predictions)\n",
    "\n",
    "cm = confusion_matrix(test_labels, y_preds)\n",
    "cm"
   ]
  },
  {
   "cell_type": "code",
   "execution_count": 8,
   "id": "2f71fbfa",
   "metadata": {},
   "outputs": [
    {
     "name": "stdout",
     "output_type": "stream",
     "text": [
      "{'Covid (Class 0)': {'precision': 0.2868217054263566, 'recall': 0.255524861878453, 'f1-score': 0.2702702702702703, 'support': 724}, 'Normal (Class 1)': {'precision': 0.7455146364494807, 'recall': 0.7743992153016185, 'f1-score': 0.7596824633148906, 'support': 2039}, 'accuracy': 0.6384364820846905, 'macro avg': {'precision': 0.5161681709379187, 'recall': 0.5149620385900358, 'f1-score': 0.5149763667925804, 'support': 2763}, 'weighted avg': {'precision': 0.6253214833330342, 'recall': 0.6384364820846905, 'f1-score': 0.6314398184490545, 'support': 2763}}\n"
     ]
    }
   ],
   "source": [
    "target_names = ['Covid (Class 0)', 'Normal (Class 1)']\n",
    "df = pd.DataFrame(classification_report(test_labels, y_preds, target_names = target_names, output_dict = True)).transpose()\n",
    "df.to_csv('../graphs/convnetReport.csv')\n",
    "print(classification_report(test_labels, y_preds, target_names = target_names, output_dict = True))"
   ]
  },
  {
   "cell_type": "markdown",
   "id": "234e5f16",
   "metadata": {},
   "source": [
    "### Inception V3 Model\n",
    "\n"
   ]
  },
  {
   "cell_type": "code",
   "execution_count": 9,
   "id": "2f3f9f68",
   "metadata": {},
   "outputs": [],
   "source": [
    "from keras.applications import InceptionV3"
   ]
  },
  {
   "cell_type": "code",
   "execution_count": 10,
   "id": "f2bc3005",
   "metadata": {},
   "outputs": [],
   "source": [
    "def build_transfer_learning_model():\n",
    "    \n",
    "    # return this variable\n",
    "    model = None\n",
    "\n",
    "    model_input = keras.Input(shape = (299, 299, 3))\n",
    "    \n",
    "    base_model = InceptionV3(input_shape = (299, 299, 3), weights='imagenet', include_top=False)\n",
    "\n",
    "    # make the weights in the base model non-trainable\n",
    "    for layer in base_model.layers:\n",
    "      layer.trainable = False\n",
    "\n",
    "    # combine the base model with a dense layer and output layer for the 10 classes\n",
    "    # the preprocess_input transforms input data according to how the model was trained\n",
    "    \n",
    "    x = keras.applications.inception_v3.preprocess_input(model_input)\n",
    "    x = base_model(x)\n",
    "    x = keras.layers.Flatten()(x)\n",
    "    x = keras.layers.Dense(256, activation = 'relu')(x)\n",
    "    x = keras.layers.Dropout(0.5)(x)\n",
    "    output = keras.layers.Dense(1, activation = 'sigmoid')(x)\n",
    "\n",
    "    model = keras.Model(model_input, output)\n",
    "\n",
    "    model.compile(loss = 'binary_crossentropy', metrics = ['accuracy'])\n",
    "    \n",
    "    return model"
   ]
  },
  {
   "cell_type": "code",
   "execution_count": 11,
   "id": "4f6e18b8",
   "metadata": {},
   "outputs": [],
   "source": [
    "transfer_learning_mod = build_transfer_learning_model()"
   ]
  },
  {
   "cell_type": "code",
   "execution_count": 12,
   "id": "a4c0ffde",
   "metadata": {},
   "outputs": [
    {
     "name": "stdout",
     "output_type": "stream",
     "text": [
      "Epoch 1/500\n",
      "130/130 [==============================] - 34s 230ms/step - loss: 4.6433 - accuracy: 0.7962 - val_loss: 0.2442 - val_accuracy: 0.9134\n",
      "Epoch 2/500\n",
      "130/130 [==============================] - 27s 206ms/step - loss: 0.4643 - accuracy: 0.8664 - val_loss: 0.2643 - val_accuracy: 0.8997\n",
      "Epoch 3/500\n",
      "130/130 [==============================] - 29s 221ms/step - loss: 0.2964 - accuracy: 0.9043 - val_loss: 0.1595 - val_accuracy: 0.9424\n",
      "Epoch 4/500\n",
      "130/130 [==============================] - 28s 211ms/step - loss: 0.2410 - accuracy: 0.9265 - val_loss: 0.1628 - val_accuracy: 0.9344\n",
      "Epoch 5/500\n",
      "130/130 [==============================] - 30s 227ms/step - loss: 0.2342 - accuracy: 0.9336 - val_loss: 0.1361 - val_accuracy: 0.9569\n",
      "Epoch 6/500\n",
      "130/130 [==============================] - 29s 221ms/step - loss: 0.1729 - accuracy: 0.9441 - val_loss: 0.1399 - val_accuracy: 0.9555\n",
      "Epoch 7/500\n",
      "130/130 [==============================] - 32s 241ms/step - loss: 0.1328 - accuracy: 0.9552 - val_loss: 0.1416 - val_accuracy: 0.9631\n",
      "Epoch 8/500\n",
      "130/130 [==============================] - 31s 239ms/step - loss: 0.1331 - accuracy: 0.9571 - val_loss: 0.1544 - val_accuracy: 0.9638\n",
      "Epoch 9/500\n",
      "130/130 [==============================] - 30s 233ms/step - loss: 0.1041 - accuracy: 0.9608 - val_loss: 0.1472 - val_accuracy: 0.9573\n",
      "Epoch 10/500\n",
      "130/130 [==============================] - 41s 317ms/step - loss: 0.0981 - accuracy: 0.9654 - val_loss: 0.1209 - val_accuracy: 0.9645\n",
      "Epoch 11/500\n",
      "130/130 [==============================] - 29s 222ms/step - loss: 0.0818 - accuracy: 0.9675 - val_loss: 0.2153 - val_accuracy: 0.9547\n",
      "Epoch 12/500\n",
      "130/130 [==============================] - 27s 204ms/step - loss: 0.0738 - accuracy: 0.9728 - val_loss: 0.1656 - val_accuracy: 0.9667\n",
      "Epoch 13/500\n",
      "130/130 [==============================] - 28s 217ms/step - loss: 0.0748 - accuracy: 0.9708 - val_loss: 0.1642 - val_accuracy: 0.9660\n",
      "Epoch 14/500\n",
      "130/130 [==============================] - 40s 304ms/step - loss: 0.1186 - accuracy: 0.9732 - val_loss: 0.2023 - val_accuracy: 0.9678\n",
      "Epoch 15/500\n",
      "130/130 [==============================] - 35s 265ms/step - loss: 0.0555 - accuracy: 0.9780 - val_loss: 0.1783 - val_accuracy: 0.9681\n",
      "Epoch 16/500\n",
      "130/130 [==============================] - 39s 303ms/step - loss: 0.0594 - accuracy: 0.9762 - val_loss: 0.3040 - val_accuracy: 0.9526\n",
      "Epoch 17/500\n",
      "130/130 [==============================] - 31s 241ms/step - loss: 0.0582 - accuracy: 0.9783 - val_loss: 0.2086 - val_accuracy: 0.9685\n",
      "Epoch 18/500\n",
      "130/130 [==============================] - 39s 298ms/step - loss: 0.0594 - accuracy: 0.9813 - val_loss: 0.2113 - val_accuracy: 0.9678\n",
      "Epoch 19/500\n",
      "130/130 [==============================] - 29s 224ms/step - loss: 0.0542 - accuracy: 0.9812 - val_loss: 0.2444 - val_accuracy: 0.9714\n",
      "Epoch 20/500\n",
      "130/130 [==============================] - 32s 244ms/step - loss: 0.0514 - accuracy: 0.9813 - val_loss: 0.3355 - val_accuracy: 0.9478\n"
     ]
    }
   ],
   "source": [
    "inception_model = fit_model(transfer_learning_mod, train_data, validation_data)"
   ]
  },
  {
   "cell_type": "code",
   "execution_count": 13,
   "id": "553fcf44",
   "metadata": {},
   "outputs": [
    {
     "name": "stdout",
     "output_type": "stream",
     "text": [
      "44/44 [==============================] - 7s 146ms/step - loss: 0.2146 - accuracy: 0.9580\n"
     ]
    }
   ],
   "source": [
    "inc_results = inception_model.evaluate(test_data)"
   ]
  },
  {
   "cell_type": "code",
   "execution_count": 14,
   "id": "d2843cac",
   "metadata": {},
   "outputs": [
    {
     "name": "stdout",
     "output_type": "stream",
     "text": [
      "44/44 [==============================] - 4s 92ms/step\n"
     ]
    },
    {
     "data": {
      "image/png": "[encoded data removed]",
      "text/plain": [
       "<Figure size 432x288 with 2 Axes>"
      ]
     },
     "metadata": {
      "needs_background": "light"
     },
     "output_type": "display_data"
    }
   ],
   "source": [
    "# Create test labels from image_dataset\n",
    "test_labels = np.concatenate([y for x, y in test_data], axis=0)\n",
    "\n",
    "# Flatten function needed to flatten nested lists from predictions\n",
    "def flatten(l):\n",
    "    return [item for sublist in l for item in sublist]\n",
    "\n",
    "# Some predictions are not correctly labeled as 1,0\n",
    "predictions = np.where(fitted_model.predict(test_data) > 0.5, 1, 0)\n",
    "predictions\n",
    "\n",
    "y_preds = flatten(predictions)\n",
    "\n",
    "cm = confusion_matrix(test_labels, y_preds)\n",
    "heatmap1 = sns.heatmap(cm, annot = True, cmap='Blues', fmt='.4g', xticklabels=target_names, yticklabels=target_names)\n",
    "heatmap1.set_xlabel('Predicted Labels', fontsize=10)\n",
    "heatmap1.set_ylabel('True Labels', fontsize=10)\n",
    "heatmap1\n",
    "heatmap1.get_figure().savefig(\"../graphs/Incheatmap1.png\", facecolor='w')"
   ]
  },
  {
   "cell_type": "code",
   "execution_count": 15,
   "id": "7a47e89c",
   "metadata": {},
   "outputs": [
    {
     "name": "stdout",
     "output_type": "stream",
     "text": [
      "{'Covid (Class 0)': {'precision': 0.2868217054263566, 'recall': 0.255524861878453, 'f1-score': 0.2702702702702703, 'support': 724}, 'Normal (Class 1)': {'precision': 0.7455146364494807, 'recall': 0.7743992153016185, 'f1-score': 0.7596824633148906, 'support': 2039}, 'accuracy': 0.6384364820846905, 'macro avg': {'precision': 0.5161681709379187, 'recall': 0.5149620385900358, 'f1-score': 0.5149763667925804, 'support': 2763}, 'weighted avg': {'precision': 0.6253214833330342, 'recall': 0.6384364820846905, 'f1-score': 0.6314398184490545, 'support': 2763}}\n"
     ]
    }
   ],
   "source": [
    "target_names = ['Covid (Class 0)', 'Normal (Class 1)']\n",
    "df = pd.DataFrame(classification_report(test_labels, y_preds, target_names = target_names, output_dict = True)).transpose()\n",
    "df.to_csv('../graphs/inceptionReport.csv')\n",
    "print(classification_report(test_labels, y_preds, target_names = target_names, output_dict = True))"
   ]
  },
  {
   "cell_type": "markdown",
   "id": "2be5ae8e",
   "metadata": {},
   "source": [
    "### ResNet Model"
   ]
  },
  {
   "cell_type": "code",
   "execution_count": 16,
   "id": "e9c1e237",
   "metadata": {},
   "outputs": [],
   "source": [
    "from keras.applications import ResNet50"
   ]
  },
  {
   "cell_type": "code",
   "execution_count": 17,
   "id": "6cd2d194",
   "metadata": {},
   "outputs": [],
   "source": [
    "def build_transfer_learning_model():\n",
    "    \n",
    "    # return this variable\n",
    "    model = None\n",
    "\n",
    "    model_input = keras.Input(shape = (299, 299, 3))\n",
    "    \n",
    "    base_model = ResNet50(input_shape = (299, 299, 3), weights='imagenet', include_top=False)\n",
    "\n",
    "    # make the weights in the base model non-trainable\n",
    "    for layer in base_model.layers:\n",
    "      layer.trainable = False\n",
    "\n",
    "    # combine the base model with a dense layer and output layer for the 10 classes\n",
    "    # the preprocess_input transforms input data according to how the model was trained\n",
    "    \n",
    "    x = keras.applications.resnet50.preprocess_input(model_input)\n",
    "    x = base_model(x)\n",
    "    x = keras.layers.Flatten()(x)\n",
    "    x = keras.layers.Dense(256, activation = 'relu')(x)\n",
    "    x = keras.layers.Dropout(0.5)(x)\n",
    "    output = keras.layers.Dense(1, activation = 'sigmoid')(x)\n",
    "\n",
    "    model = keras.Model(model_input, output)\n",
    "\n",
    "    model.compile(loss = 'binary_crossentropy', metrics = ['accuracy'])\n",
    "    \n",
    "    return model"
   ]
  },
  {
   "cell_type": "code",
   "execution_count": 18,
   "id": "0db51ddd",
   "metadata": {},
   "outputs": [],
   "source": [
    "transfer_learning_mod = build_transfer_learning_model()"
   ]
  },
  {
   "cell_type": "code",
   "execution_count": 19,
   "id": "be995ac2",
   "metadata": {
    "scrolled": true
   },
   "outputs": [
    {
     "name": "stdout",
     "output_type": "stream",
     "text": [
      "Epoch 1/500\n",
      "130/130 [==============================] - 37s 261ms/step - loss: 7.9112 - accuracy: 0.8811 - val_loss: 0.3143 - val_accuracy: 0.9355\n",
      "Epoch 2/500\n",
      "130/130 [==============================] - 34s 264ms/step - loss: 0.4798 - accuracy: 0.9316 - val_loss: 0.1505 - val_accuracy: 0.9641\n",
      "Epoch 3/500\n",
      "130/130 [==============================] - 36s 277ms/step - loss: 0.3013 - accuracy: 0.9585 - val_loss: 0.0926 - val_accuracy: 0.9768\n",
      "Epoch 4/500\n",
      "130/130 [==============================] - 36s 274ms/step - loss: 0.1801 - accuracy: 0.9672 - val_loss: 0.1263 - val_accuracy: 0.9685\n",
      "Epoch 5/500\n",
      "130/130 [==============================] - 29s 222ms/step - loss: 0.1156 - accuracy: 0.9756 - val_loss: 0.0946 - val_accuracy: 0.9804\n",
      "Epoch 6/500\n",
      "130/130 [==============================] - 36s 273ms/step - loss: 0.1319 - accuracy: 0.9784 - val_loss: 0.1359 - val_accuracy: 0.9783\n",
      "Epoch 7/500\n",
      "130/130 [==============================] - 34s 261ms/step - loss: 0.1093 - accuracy: 0.9795 - val_loss: 0.2638 - val_accuracy: 0.9746\n",
      "Epoch 8/500\n",
      "130/130 [==============================] - 34s 260ms/step - loss: 0.0642 - accuracy: 0.9852 - val_loss: 0.1793 - val_accuracy: 0.9801\n",
      "Epoch 9/500\n",
      "130/130 [==============================] - 35s 266ms/step - loss: 0.0783 - accuracy: 0.9860 - val_loss: 0.2191 - val_accuracy: 0.9765\n",
      "Epoch 10/500\n",
      "130/130 [==============================] - 37s 286ms/step - loss: 0.0587 - accuracy: 0.9848 - val_loss: 0.1304 - val_accuracy: 0.9837\n",
      "Epoch 11/500\n",
      "130/130 [==============================] - 34s 260ms/step - loss: 0.0482 - accuracy: 0.9901 - val_loss: 0.2286 - val_accuracy: 0.9812\n",
      "Epoch 12/500\n",
      "130/130 [==============================] - 37s 282ms/step - loss: 0.0403 - accuracy: 0.9909 - val_loss: 0.2120 - val_accuracy: 0.9754\n",
      "Epoch 13/500\n",
      "130/130 [==============================] - 42s 322ms/step - loss: 0.0654 - accuracy: 0.9888 - val_loss: 0.1883 - val_accuracy: 0.9848\n"
     ]
    }
   ],
   "source": [
    "resnet_model = fit_model(transfer_learning_mod, train_data, validation_data)"
   ]
  },
  {
   "cell_type": "code",
   "execution_count": 20,
   "id": "d10a6a37",
   "metadata": {},
   "outputs": [
    {
     "name": "stdout",
     "output_type": "stream",
     "text": [
      "44/44 [==============================] - 7s 158ms/step - loss: 0.1024 - accuracy: 0.9877\n"
     ]
    }
   ],
   "source": [
    "results = resnet_model.evaluate(test_data)"
   ]
  },
  {
   "cell_type": "code",
   "execution_count": 21,
   "id": "eafa862c",
   "metadata": {},
   "outputs": [
    {
     "name": "stdout",
     "output_type": "stream",
     "text": [
      "44/44 [==============================] - 10s 194ms/step\n"
     ]
    },
    {
     "data": {
      "image/png": "[encoded data removed]",
      "text/plain": [
       "<Figure size 432x288 with 2 Axes>"
      ]
     },
     "metadata": {
      "needs_background": "light"
     },
     "output_type": "display_data"
    }
   ],
   "source": [
    "# Some predictions are continuous and thus not labeled as 1,0\n",
    "predictions = np.where(resnet_model.predict(test_data) > 0.5, 1, 0)\n",
    "predictions\n",
    "\n",
    "y_preds = flatten(predictions)\n",
    "\n",
    "cm = confusion_matrix(test_labels, y_preds)\n",
    "heatmap2 = sns.heatmap(cm, annot = True, cmap='Blues', fmt='.4g', xticklabels=target_names, yticklabels=target_names)\n",
    "heatmap2.set_xlabel('Predicted Labels', fontsize=10)\n",
    "heatmap2.set_ylabel('True Labels', fontsize=10)\n",
    "heatmap2\n",
    "heatmap2.get_figure().savefig(\"../graphs/Resheatmap2.png\", facecolor='w')"
   ]
  },
  {
   "cell_type": "code",
   "execution_count": 22,
   "id": "81d72d37",
   "metadata": {
    "scrolled": true
   },
   "outputs": [
    {
     "name": "stdout",
     "output_type": "stream",
     "text": [
      "{'Covid (Class 0)': {'precision': 0.28917378917378916, 'recall': 0.2803867403314917, 'f1-score': 0.2847124824684432, 'support': 724}, 'Normal (Class 1)': {'precision': 0.7472100921882582, 'recall': 0.7552721922511035, 'f1-score': 0.7512195121951221, 'support': 2039}, 'accuracy': 0.6308360477741585, 'macro avg': {'precision': 0.5181919406810237, 'recall': 0.5178294662912977, 'f1-score': 0.5179659973317826, 'support': 2763}, 'weighted avg': {'precision': 0.6271889979492153, 'recall': 0.6308360477741585, 'f1-score': 0.6289787993749572, 'support': 2763}}\n"
     ]
    }
   ],
   "source": [
    "target_names = ['Covid (Class 0)', 'Normal (Class 1)']\n",
    "df = pd.DataFrame(classification_report(test_labels, y_preds, target_names = target_names, output_dict = True)).transpose()\n",
    "df.to_csv('../graphs/resnetReport.csv')\n",
    "print(classification_report(test_labels, y_preds, target_names = target_names, output_dict = True))"
   ]
  },
  {
   "cell_type": "markdown",
   "id": "db0cc111",
   "metadata": {},
   "source": [
    "### ResNet with Dropout 0.25"
   ]
  },
  {
   "cell_type": "code",
   "execution_count": 23,
   "id": "449664fe",
   "metadata": {},
   "outputs": [],
   "source": [
    "def build_transfer_learning_model():\n",
    "    \n",
    "    # return this variable\n",
    "    model = None\n",
    "\n",
    "    model_input = keras.Input(shape = (299, 299, 3))\n",
    "    \n",
    "    base_model = ResNet50(input_shape = (299, 299, 3), weights='imagenet', include_top=False)\n",
    "\n",
    "    # make the weights in the base model non-trainable\n",
    "    for layer in base_model.layers:\n",
    "      layer.trainable = False\n",
    "\n",
    "    # combine the base model with a dense layer and output layer for the 10 classes\n",
    "    # the preprocess_input transforms input data according to how the model was trained\n",
    "    \n",
    "    x = keras.applications.resnet50.preprocess_input(model_input)\n",
    "    x = base_model(x)\n",
    "    x = keras.layers.Flatten()(x)\n",
    "    x = keras.layers.Dense(256, activation = 'relu')(x)\n",
    "    x = keras.layers.Dropout(0.25)(x)\n",
    "    output = keras.layers.Dense(1, activation = 'sigmoid')(x)\n",
    "\n",
    "    model = keras.Model(model_input, output)\n",
    "\n",
    "    model.compile(loss = 'binary_crossentropy', metrics = ['accuracy'])\n",
    "    \n",
    "    return model"
   ]
  },
  {
   "cell_type": "code",
   "execution_count": 24,
   "id": "e92d1a81",
   "metadata": {},
   "outputs": [],
   "source": [
    "transfer_learning_mod = build_transfer_learning_model()"
   ]
  },
  {
   "cell_type": "code",
   "execution_count": 36,
   "id": "efa5400e",
   "metadata": {
    "scrolled": false
   },
   "outputs": [
    {
     "name": "stdout",
     "output_type": "stream",
     "text": [
      "ERROR! Session/line number was not unique in database. History logging moved to new session 1371\n",
      "Epoch 1/500\n",
      "130/130 [==============================] - 31s 237ms/step - loss: 0.0247 - accuracy: 0.9958 - val_loss: 0.0440 - val_accuracy: 0.9931\n",
      "Epoch 2/500\n",
      "130/130 [==============================] - 28s 217ms/step - loss: 0.0198 - accuracy: 0.9971 - val_loss: 0.0492 - val_accuracy: 0.9931\n",
      "Epoch 3/500\n",
      "130/130 [==============================] - 31s 237ms/step - loss: 0.0203 - accuracy: 0.9970 - val_loss: 0.0430 - val_accuracy: 0.9946\n",
      "Epoch 4/500\n",
      "130/130 [==============================] - 37s 284ms/step - loss: 0.0190 - accuracy: 0.9965 - val_loss: 0.0595 - val_accuracy: 0.9946\n",
      "Epoch 5/500\n",
      "130/130 [==============================] - 31s 236ms/step - loss: 0.0194 - accuracy: 0.9976 - val_loss: 0.0827 - val_accuracy: 0.9946\n",
      "Epoch 6/500\n",
      "130/130 [==============================] - 28s 218ms/step - loss: 0.0194 - accuracy: 0.9981 - val_loss: 0.1324 - val_accuracy: 0.9880\n",
      "Epoch 7/500\n",
      "130/130 [==============================] - 29s 226ms/step - loss: 0.0208 - accuracy: 0.9976 - val_loss: 0.2718 - val_accuracy: 0.9823\n",
      "Epoch 8/500\n",
      "130/130 [==============================] - 33s 253ms/step - loss: 0.0108 - accuracy: 0.9986 - val_loss: 0.0876 - val_accuracy: 0.9924\n",
      "Epoch 9/500\n",
      "130/130 [==============================] - 35s 267ms/step - loss: 0.0072 - accuracy: 0.9986 - val_loss: 0.1262 - val_accuracy: 0.9899\n",
      "Epoch 10/500\n",
      "130/130 [==============================] - 41s 315ms/step - loss: 0.0243 - accuracy: 0.9975 - val_loss: 0.0894 - val_accuracy: 0.9935\n",
      "Epoch 11/500\n",
      "130/130 [==============================] - 31s 241ms/step - loss: 0.0099 - accuracy: 0.9988 - val_loss: 0.0851 - val_accuracy: 0.9931\n",
      "Epoch 12/500\n",
      "130/130 [==============================] - 38s 289ms/step - loss: 0.0183 - accuracy: 0.9981 - val_loss: 0.1055 - val_accuracy: 0.9906\n",
      "Epoch 13/500\n",
      "130/130 [==============================] - 33s 251ms/step - loss: 0.0054 - accuracy: 0.9993 - val_loss: 0.1112 - val_accuracy: 0.9913\n",
      "Finished\n"
     ]
    }
   ],
   "source": [
    "resnet25_model = fit_model(transfer_learning_mod, train_data, validation_data)\n",
    "print(\"Finished\")"
   ]
  },
  {
   "cell_type": "code",
   "execution_count": 37,
   "id": "e36856f8",
   "metadata": {},
   "outputs": [
    {
     "name": "stdout",
     "output_type": "stream",
     "text": [
      "44/44 [==============================] - 7s 159ms/step - loss: 0.1786 - accuracy: 0.9881\n"
     ]
    }
   ],
   "source": [
    "results = resnet25_model.evaluate(test_data)"
   ]
  },
  {
   "cell_type": "code",
   "execution_count": 38,
   "id": "e77f920c",
   "metadata": {},
   "outputs": [],
   "source": [
    "target_names = ['Covid (Class 0)', 'Normal (Class 1)']"
   ]
  },
  {
   "cell_type": "code",
   "execution_count": 39,
   "id": "22b798d5",
   "metadata": {},
   "outputs": [
    {
     "name": "stdout",
     "output_type": "stream",
     "text": [
      "44/44 [==============================] - 7s 163ms/step\n"
     ]
    },
    {
     "data": {
      "image/png": "[encoded data removed]",
      "text/plain": [
       "<Figure size 432x288 with 2 Axes>"
      ]
     },
     "metadata": {
      "needs_background": "light"
     },
     "output_type": "display_data"
    }
   ],
   "source": [
    "# Some predictions are continuous and thus not labeled as 1,0\n",
    "predictions = np.where(resnet25_model.predict(test_data) > 0.5, 1, 0)\n",
    "predictions\n",
    "\n",
    "y_preds = flatten(predictions)\n",
    "\n",
    "cm = confusion_matrix(test_labels, y_preds)\n",
    "heatmap3 = sns.heatmap(cm, annot = True, cmap='Blues', fmt='.4g', xticklabels=target_names, yticklabels=target_names)\n",
    "heatmap3.set_xlabel('Predicted Labels', fontsize=10)\n",
    "heatmap3.set_ylabel('True Labels', fontsize=10)\n",
    "heatmap3\n",
    "heatmap3.get_figure().savefig(\"../graphs/Res25heatmap3.png\", facecolor='w')"
   ]
  },
  {
   "cell_type": "code",
   "execution_count": 40,
   "id": "e30acc97",
   "metadata": {
    "scrolled": false
   },
   "outputs": [
    {
     "name": "stdout",
     "output_type": "stream",
     "text": [
      "{'Covid (Class 0)': {'precision': 0.27157001414427157, 'recall': 0.26519337016574585, 'f1-score': 0.2683438155136268, 'support': 724}, 'Normal (Class 1)': {'precision': 0.7412451361867705, 'recall': 0.7474252084355076, 'f1-score': 0.7443223443223442, 'support': 2039}, 'accuracy': 0.6210640608034745, 'macro avg': {'precision': 0.506407575165521, 'recall': 0.5063092893006267, 'f1-score': 0.5063330799179855, 'support': 2763}, 'weighted avg': {'precision': 0.6181742753982186, 'recall': 0.6210640608034745, 'f1-score': 0.6195997765128938, 'support': 2763}}\n"
     ]
    }
   ],
   "source": [
    "target_names = ['Covid (Class 0)', 'Normal (Class 1)']\n",
    "df = pd.DataFrame(classification_report(test_labels, y_preds, target_names = target_names, output_dict = True)).transpose()\n",
    "df.to_csv('../graphs/resnet25Report.csv')\n",
    "print(classification_report(test_labels, y_preds, target_names = target_names, output_dict = True))"
   ]
  },
  {
   "cell_type": "markdown",
   "id": "355c9198",
   "metadata": {},
   "source": [
    "### Final Model"
   ]
  },
  {
   "cell_type": "code",
   "execution_count": 41,
   "id": "3dbd8987",
   "metadata": {},
   "outputs": [],
   "source": [
    "# Concatenate train and validation data\n",
    "fulltrain = train_data.concatenate(validation_data)"
   ]
  },
  {
   "cell_type": "code",
   "execution_count": 42,
   "id": "b723de92",
   "metadata": {},
   "outputs": [
    {
     "name": "stdout",
     "output_type": "stream",
     "text": [
      "174/174 [==============================] - 30s 169ms/step - loss: 0.0604 - accuracy: 0.9951\n"
     ]
    }
   ],
   "source": [
    "# Fit the model on 80% data\n",
    "final_model = resnet25_model.fit(fulltrain)"
   ]
  },
  {
   "cell_type": "code",
   "execution_count": 43,
   "id": "5377df29",
   "metadata": {
    "scrolled": true
   },
   "outputs": [
    {
     "name": "stderr",
     "output_type": "stream",
     "text": [
      "WARNING:absl:Found untraced functions such as _jit_compiled_convolution_op, _jit_compiled_convolution_op, _jit_compiled_convolution_op, _jit_compiled_convolution_op, _jit_compiled_convolution_op while saving (showing 5 of 53). These functions will not be directly callable after loading.\n"
     ]
    },
    {
     "name": "stdout",
     "output_type": "stream",
     "text": [
      "INFO:tensorflow:Assets written to: ram://aefae077-38fc-415a-8b9c-1ffdaeb02bfb/assets\n"
     ]
    },
    {
     "name": "stderr",
     "output_type": "stream",
     "text": [
      "INFO:tensorflow:Assets written to: ram://aefae077-38fc-415a-8b9c-1ffdaeb02bfb/assets\n"
     ]
    }
   ],
   "source": [
    "filename = 'final_model.pkl'\n",
    "pkl.dump(resnet25_model, open(filename, 'wb'))"
   ]
  },
  {
   "cell_type": "code",
   "execution_count": 44,
   "id": "ba5fa3ba",
   "metadata": {},
   "outputs": [
    {
     "name": "stderr",
     "output_type": "stream",
     "text": [
      "WARNING:absl:Found untraced functions such as _jit_compiled_convolution_op, _jit_compiled_convolution_op, _jit_compiled_convolution_op, _jit_compiled_convolution_op, _jit_compiled_convolution_op while saving (showing 5 of 53). These functions will not be directly callable after loading.\n"
     ]
    },
    {
     "name": "stdout",
     "output_type": "stream",
     "text": [
      "INFO:tensorflow:Assets written to: fullmodel\\assets\n"
     ]
    },
    {
     "name": "stderr",
     "output_type": "stream",
     "text": [
      "INFO:tensorflow:Assets written to: fullmodel\\assets\n"
     ]
    }
   ],
   "source": [
    "# Save full model\n",
    "resnet_model.save('fullmodel')"
   ]
  },
  {
   "cell_type": "code",
   "execution_count": 45,
   "id": "03386976",
   "metadata": {},
   "outputs": [
    {
     "name": "stdout",
     "output_type": "stream",
     "text": [
      "Model: \"model_2\"\n",
      "_________________________________________________________________\n",
      " Layer (type)                Output Shape              Param #   \n",
      "=================================================================\n",
      " input_4 (InputLayer)        [(None, 299, 299, 3)]     0         \n",
      "                                                                 \n",
      " tf.__operators__.getitem (S  (None, 299, 299, 3)      0         \n",
      " licingOpLambda)                                                 \n",
      "                                                                 \n",
      " tf.nn.bias_add (TFOpLambda)  (None, 299, 299, 3)      0         \n",
      "                                                                 \n",
      " resnet50 (Functional)       (None, 10, 10, 2048)      23587712  \n",
      "                                                                 \n",
      " flatten_2 (Flatten)         (None, 204800)            0         \n",
      "                                                                 \n",
      " dense_3 (Dense)             (None, 256)               52429056  \n",
      "                                                                 \n",
      " dropout_1 (Dropout)         (None, 256)               0         \n",
      "                                                                 \n",
      " dense_4 (Dense)             (None, 1)                 257       \n",
      "                                                                 \n",
      "=================================================================\n",
      "Total params: 76,017,025\n",
      "Trainable params: 52,429,313\n",
      "Non-trainable params: 23,587,712\n",
      "_________________________________________________________________\n"
     ]
    }
   ],
   "source": [
    "# Load model\n",
    "new_model = tf.keras.models.load_model('fullmodel')\n",
    "new_model.summary()"
   ]
  },
  {
   "cell_type": "code",
   "execution_count": 46,
   "id": "13ce3881",
   "metadata": {},
   "outputs": [
    {
     "name": "stdout",
     "output_type": "stream",
     "text": [
      "44/44 - 10s - loss: 0.1024 - accuracy: 0.9877 - 10s/epoch - 228ms/step\n",
      "Restored model, accuracy: 98.77%\n"
     ]
    }
   ],
   "source": [
    "# Evaluate the restored model\n",
    "loss, acc = new_model.evaluate(test_data, verbose=2)\n",
    "print('Restored model, accuracy: {:5.2f}%'.format(100 * acc))"
   ]
  },
  {
   "cell_type": "code",
   "execution_count": 47,
   "id": "93820d2f",
   "metadata": {},
   "outputs": [
    {
     "name": "stdout",
     "output_type": "stream",
     "text": [
      "44/44 [==============================] - 10s 207ms/step\n"
     ]
    },
    {
     "data": {
      "text/plain": [
       "array([[1.],\n",
       "       [1.],\n",
       "       [1.],\n",
       "       ...,\n",
       "       [1.],\n",
       "       [1.],\n",
       "       [1.]], dtype=float32)"
      ]
     },
     "execution_count": 47,
     "metadata": {},
     "output_type": "execute_result"
    }
   ],
   "source": [
    "new_model.predict(test_data)"
   ]
  },
  {
   "cell_type": "code",
   "execution_count": null,
   "id": "b2976def",
   "metadata": {},
   "outputs": [],
   "source": []
  }
 ],
 "metadata": {
  "kernelspec": {
   "display_name": "tf_gpu",
   "language": "python",
   "name": "tf_gpu"
  },
  "language_info": {
   "codemirror_mode": {
    "name": "ipython",
    "version": 3
   },
   "file_extension": ".py",
   "mimetype": "text/x-python",
   "name": "python",
   "nbconvert_exporter": "python",
   "pygments_lexer": "ipython3",
   "version": "3.9.15"
  }
 },
 "nbformat": 4,
 "nbformat_minor": 5
}
